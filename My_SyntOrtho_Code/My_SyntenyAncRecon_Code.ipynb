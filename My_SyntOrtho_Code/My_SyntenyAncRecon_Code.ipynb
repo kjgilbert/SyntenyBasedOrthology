{
 "cells": [
  {
   "cell_type": "code",
   "execution_count": 151,
   "metadata": {},
   "outputs": [
    {
     "data": {
      "text/plain": [
       "'1.1.7'"
      ]
     },
     "execution_count": 151,
     "metadata": {},
     "output_type": "execute_result"
    }
   ],
   "source": [
    "import pyham\n",
    "from Bio import SeqIO\n",
    "import os\n",
    "import matplotlib.pyplot as plt\n",
    "\n",
    "# Path to nwk file\n",
    "nwk_path = \"test_data/EstimatedSpeciesTree.nwk\"\n",
    "\n",
    "# The newick tree is extracted as a string\n",
    "tree_str = pyham.utils.get_newick_string(nwk_path, type=\"nwk\")\n",
    "\n",
    "# Path to OrthoXML file\n",
    "#orthoxml_path = \"../small_noEvents/OMA.2.3.0/Output/OrthologousGroups.orthoxml\" # same error if I use this file\n",
    "orthoxml_path = \"test_data/HierarchicalGroups.orthoxml\"\n",
    "\n",
    "#ham_analysis = pyham.Ham(tree_str, orthoxml_path, use_internal_name=True)\n",
    "ham_analysis_no_name = pyham.Ham(tree_str, orthoxml_path, use_internal_name=False)\n",
    "\n",
    "pyham.__version__"
   ]
  },
  {
   "cell_type": "code",
   "execution_count": 152,
   "metadata": {},
   "outputs": [],
   "source": [
    "def locus_to_id(file):\n",
    "    \n",
    "    \"\"\"\n",
    "    This function extracts loci from a fasta file and store the information as keys in a dictionary \n",
    "    and the related protein ID as value.\n",
    "\n",
    "    Args:\n",
    "        file (:obj:`str`): path to the file of interest.\n",
    "\n",
    "    Returns:\n",
    "        a dictionary mapping the locus (:obj:`str`) with the protein ID (:obj:`str`).\n",
    "    \"\"\"\n",
    "    \n",
    "    locus_to_id = {}\n",
    "    for seq_record in SeqIO.parse(file, 'fasta'):\n",
    "        locus_to_id[seq_record.description.split('locus: ')[-1]] = seq_record.description\n",
    "        \n",
    "    return locus_to_id"
   ]
  },
  {
   "cell_type": "code",
   "execution_count": 153,
   "metadata": {},
   "outputs": [],
   "source": [
    "#locus_to_id(\"test_data/DB/SE001_aa.fa\")"
   ]
  },
  {
   "cell_type": "code",
   "execution_count": 154,
   "metadata": {},
   "outputs": [],
   "source": [
    "def get_locus(directory):\n",
    "    \n",
    "    \"\"\"\n",
    "    This function goes through each file of a folder and build a dictionary containing loci \n",
    "    as keys and the related protein ID as values. For each entry in the dictionary, the function \n",
    "    updates the corresponding :obj:`pyham.abstractgene.Gene` by adding its locus.\n",
    "\n",
    "    Args:\n",
    "        directory (:obj:`str`): directory of interest.\n",
    "\n",
    "    Returns:\n",
    "        xxx\n",
    "    \"\"\"\n",
    "\n",
    "    path = directory\n",
    "    for file in os.listdir(path):\n",
    "        ##print('File:', file)\n",
    "        path_to_file = path + '/' + file\n",
    "        locus_dictionary = locus_to_id(path_to_file)\n",
    " \n",
    "        for (loci, gene_id) in locus_dictionary.items():\n",
    "            gene = ham_analysis_no_name.get_genes_by_external_id(gene_id)\n",
    "            \n",
    "            # each gene should only map to 1 other gene, so should always be length 1...\n",
    "            assert len(gene) == 1, 'gene_id maps to multiple entries'\n",
    "            gene[0].locus = loci\n",
    "            #for element in gene:\n",
    "            #    element.locus = loci\n",
    "#                print(element.locus)\n",
    "                \n",
    "        ham_analysis_no_name.get_extant_genome_by_name('.'.join(file.split('.')[:-1])).locus_assignment = True"
   ]
  },
  {
   "cell_type": "code",
   "execution_count": 155,
   "metadata": {},
   "outputs": [],
   "source": [
    "get_locus('test_data/DB')\n"
   ]
  },
  {
   "cell_type": "code",
   "execution_count": 136,
   "metadata": {},
   "outputs": [],
   "source": [
    "x = {1: 'v 1',\n",
    "     2: 'v 2'}"
   ]
  },
  {
   "cell_type": "code",
   "execution_count": 137,
   "metadata": {},
   "outputs": [
    {
     "data": {
      "text/plain": [
       "[1, 2]"
      ]
     },
     "execution_count": 137,
     "metadata": {},
     "output_type": "execute_result"
    }
   ],
   "source": [
    "list(x)"
   ]
  },
  {
   "cell_type": "code",
   "execution_count": 138,
   "metadata": {},
   "outputs": [
    {
     "data": {
      "text/plain": [
       "[1, 2]"
      ]
     },
     "execution_count": 138,
     "metadata": {},
     "output_type": "execute_result"
    }
   ],
   "source": [
    "list(x.keys())"
   ]
  },
  {
   "cell_type": "code",
   "execution_count": 139,
   "metadata": {},
   "outputs": [
    {
     "data": {
      "text/plain": [
       "['v 1', 'v 2']"
      ]
     },
     "execution_count": 139,
     "metadata": {},
     "output_type": "execute_result"
    }
   ],
   "source": [
    "list(x.values())"
   ]
  },
  {
   "cell_type": "code",
   "execution_count": 140,
   "metadata": {},
   "outputs": [
    {
     "data": {
      "text/plain": [
       "[(1, 'v 1'), (2, 'v 2')]"
      ]
     },
     "execution_count": 140,
     "metadata": {},
     "output_type": "execute_result"
    }
   ],
   "source": [
    "list(x.items())"
   ]
  },
  {
   "cell_type": "code",
   "execution_count": null,
   "metadata": {},
   "outputs": [],
   "source": []
  }
 ],
 "metadata": {
  "kernelspec": {
   "display_name": "Python [conda env:py3]",
   "language": "python",
   "name": "conda-env-py3-py"
  },
  "language_info": {
   "codemirror_mode": {
    "name": "ipython",
    "version": 3
   },
   "file_extension": ".py",
   "mimetype": "text/x-python",
   "name": "python",
   "nbconvert_exporter": "python",
   "pygments_lexer": "ipython3",
   "version": "3.7.5"
  }
 },
 "nbformat": 4,
 "nbformat_minor": 2
}
