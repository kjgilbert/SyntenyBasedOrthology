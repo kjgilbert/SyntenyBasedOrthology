{
 "cells": [
  {
   "cell_type": "code",
   "execution_count": 48,
   "metadata": {},
   "outputs": [],
   "source": [
    "from ete3 import Tree\n",
    "from ete3 import orthoxml\n",
    "\n",
    "real_tree = Tree(\"lower_mut_3spp/RealTree.nwk\")\n"
   ]
  },
  {
   "cell_type": "code",
   "execution_count": 49,
   "metadata": {},
   "outputs": [
    {
     "name": "stdout",
     "output_type": "stream",
     "text": [
      "\n",
      "   /-SE001_aa\n",
      "--|\n",
      "  |   /-SE002_aa\n",
      "   \\-|\n",
      "      \\-SE003_aa\n"
     ]
    }
   ],
   "source": [
    "print(real_tree)"
   ]
  },
  {
   "cell_type": "code",
   "execution_count": 51,
   "metadata": {},
   "outputs": [
    {
     "name": "stdout",
     "output_type": "stream",
     "text": [
      "<orthoXML>\r\n",
      "    <species name=b'\"aa\"'>\r\n",
      "        <database name=b'\"\"'>\r\n",
      "            <genes>\r\n",
      "                <gene protId=b'\"SE001_aa\"' id=\"0\"/>\r\n",
      "                <gene protId=b'\"SE002_aa\"' id=\"1\"/>\r\n",
      "                <gene protId=b'\"SE003_aa\"' id=\"2\"/>\r\n",
      "            </genes>\r\n",
      "        </database>\r\n",
      "    </species>\r\n",
      "    <groups>\r\n",
      "        <orthologGroup>\r\n",
      "            <geneRef id=\"0\"/>\r\n",
      "        </orthologGroup>\r\n",
      "        <orthologGroup>\r\n",
      "            <geneRef id=\"1\"/>\r\n",
      "        </orthologGroup>\r\n",
      "        <orthologGroup>\r\n",
      "            <geneRef id=\"2\"/>\r\n",
      "        </orthologGroup>\r\n",
      "    </groups>\r\n",
      "</orthoXML>\r\n"
     ]
    }
   ],
   "source": [
    "#!ls\n",
    "\n",
    "!python my_etree2orthoxml.py \"lower_mut_3spp/RealTree.nwk\""
   ]
  },
  {
   "cell_type": "code",
   "execution_count": 52,
   "metadata": {},
   "outputs": [
    {
     "name": "stdout",
     "output_type": "stream",
     "text": [
      "<orthoXML>\r\n",
      "    <species name=b'\"SE001\"'>\r\n",
      "        <database name=b'\"\"'>\r\n",
      "            <genes>\r\n",
      "                <gene protId=b'\"SE001/00002\"' id=\"0\"/>\r\n",
      "            </genes>\r\n",
      "        </database>\r\n",
      "    </species>\r\n",
      "    <species name=b'\"SE002\"'>\r\n",
      "        <database name=b'\"\"'>\r\n",
      "            <genes>\r\n",
      "                <gene protId=b'\"SE002/00002\"' id=\"1\"/>\r\n",
      "            </genes>\r\n",
      "        </database>\r\n",
      "    </species>\r\n",
      "    <species name=b'\"SE003\"'>\r\n",
      "        <database name=b'\"\"'>\r\n",
      "            <genes>\r\n",
      "                <gene protId=b'\"SE003/00002\"' id=\"2\"/>\r\n",
      "            </genes>\r\n",
      "        </database>\r\n",
      "    </species>\r\n",
      "    <groups>\r\n",
      "        <orthologGroup>\r\n",
      "            <geneRef id=\"0\"/>\r\n",
      "            <orthologGroup>\r\n",
      "                <geneRef id=\"1\"/>\r\n",
      "                <geneRef id=\"2\"/>\r\n",
      "            </orthologGroup>\r\n",
      "        </orthologGroup>\r\n",
      "    </groups>\r\n",
      "</orthoXML>\r\n"
     ]
    }
   ],
   "source": [
    "!python my_etree2orthoxml.py lower_mut_3spp/sim_3spp/GeneTrees/GeneTree2.nwk --sp_delimiter '/' --sp_field '0'"
   ]
  },
  {
   "cell_type": "code",
   "execution_count": null,
   "metadata": {},
   "outputs": [],
   "source": []
  }
 ],
 "metadata": {
  "kernelspec": {
   "display_name": "Python [conda env:py3]",
   "language": "python",
   "name": "conda-env-py3-py"
  },
  "language_info": {
   "codemirror_mode": {
    "name": "ipython",
    "version": 3
   },
   "file_extension": ".py",
   "mimetype": "text/x-python",
   "name": "python",
   "nbconvert_exporter": "python",
   "pygments_lexer": "ipython3",
   "version": "3.7.5"
  }
 },
 "nbformat": 4,
 "nbformat_minor": 2
}
