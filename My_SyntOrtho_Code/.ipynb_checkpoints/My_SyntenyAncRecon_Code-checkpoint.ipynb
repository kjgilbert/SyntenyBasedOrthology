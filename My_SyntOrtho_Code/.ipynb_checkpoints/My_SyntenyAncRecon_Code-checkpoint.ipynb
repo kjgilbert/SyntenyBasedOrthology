{
 "cells": [
  {
   "cell_type": "code",
   "execution_count": 78,
   "metadata": {},
   "outputs": [
    {
     "data": {
      "text/plain": [
       "'1.1.7'"
      ]
     },
     "execution_count": 78,
     "metadata": {},
     "output_type": "execute_result"
    }
   ],
   "source": [
    "import pyham\n",
    "from Bio import SeqIO\n",
    "import os\n",
    "import matplotlib.pyplot as plt\n",
    "\n",
    "# Path to nwk file\n",
    "nwk_path = \"test_data/EstimatedSpeciesTree.nwk\"\n",
    "\n",
    "# The newick tree is extracted as a string\n",
    "tree_str = pyham.utils.get_newick_string(nwk_path, type=\"nwk\")\n",
    "\n",
    "# Path to OrthoXML file\n",
    "#orthoxml_path = \"../small_noEvents/OMA.2.3.0/Output/OrthologousGroups.orthoxml\" # same error if I use this file\n",
    "orthoxml_path = \"test_data/HierarchicalGroups.orthoxml\"\n",
    "\n",
    "#ham_analysis = pyham.Ham(tree_str, orthoxml_path, use_internal_name=True)\n",
    "ham_analysis_no_name = pyham.Ham(tree_str, orthoxml_path, use_internal_name=False)\n",
    "\n",
    "pyham.__version__"
   ]
  },
  {
   "cell_type": "code",
   "execution_count": 127,
   "metadata": {},
   "outputs": [],
   "source": [
    "def locus_to_id(file):\n",
    "    \n",
    "    \"\"\"\n",
    "    This function extracts loci from a fasta file and store the information as keys in a dictionary \n",
    "    and the related protein ID as value.\n",
    "\n",
    "    Args:\n",
    "        file (:obj:`str`): path to the file of interest.\n",
    "\n",
    "    Returns:\n",
    "        a dictionary mapping the locus (:obj:`str`) with the protein ID (:obj:`str`).\n",
    "    \"\"\"\n",
    "    \n",
    "    locus_to_id = {}\n",
    "    for seq_record in SeqIO.parse(file, 'fasta'):\n",
    "        locus_to_id[seq_record.description.split('locus: ')[-1]] = seq_record.description\n",
    "        \n",
    "    return locus_to_id"
   ]
  },
  {
   "cell_type": "code",
   "execution_count": 128,
   "metadata": {},
   "outputs": [
    {
     "data": {
      "text/plain": [
       "{'1': 'G1_SE001, sequence type: type1, locus: 1',\n",
       " '2': 'G2_SE001, sequence type: type1, locus: 2',\n",
       " '3': 'G3_SE001, sequence type: type1, locus: 3',\n",
       " '4': 'G4_SE001, sequence type: type1, locus: 4',\n",
       " '5': 'G5_SE001, sequence type: type1, locus: 5',\n",
       " '6': 'G6_SE001, sequence type: type1, locus: 6',\n",
       " '7': 'G7_SE001, sequence type: type1, locus: 7',\n",
       " '8': 'G8_SE001, sequence type: type1, locus: 8',\n",
       " '9': 'G9_SE001, sequence type: type1, locus: 9',\n",
       " '10': 'G10_SE001, sequence type: type1, locus: 10',\n",
       " '11': 'G11_SE001, sequence type: type1, locus: 11',\n",
       " '12': 'G12_SE001, sequence type: type1, locus: 12',\n",
       " '13': 'G13_SE001, sequence type: type1, locus: 13',\n",
       " '14': 'G14_SE001, sequence type: type1, locus: 14',\n",
       " '15': 'G15_SE001, sequence type: type1, locus: 15',\n",
       " '16': 'G16_SE001, sequence type: type1, locus: 16',\n",
       " '17': 'G17_SE001, sequence type: type1, locus: 17',\n",
       " '18': 'G18_SE001, sequence type: type1, locus: 18',\n",
       " '19': 'G19_SE001, sequence type: type1, locus: 19',\n",
       " '20': 'G20_SE001, sequence type: type1, locus: 20',\n",
       " '21': 'G21_SE001, sequence type: type1, locus: 21',\n",
       " '22': 'G22_SE001, sequence type: type1, locus: 22',\n",
       " '23': 'G23_SE001, sequence type: type1, locus: 23',\n",
       " '24': 'G24_SE001, sequence type: type1, locus: 24',\n",
       " '25': 'G25_SE001, sequence type: type1, locus: 25',\n",
       " '26': 'G26_SE001, sequence type: type1, locus: 26',\n",
       " '27': 'G27_SE001, sequence type: type1, locus: 27',\n",
       " '28': 'G28_SE001, sequence type: type1, locus: 28',\n",
       " '29': 'G29_SE001, sequence type: type1, locus: 29',\n",
       " '30': 'G30_SE001, sequence type: type1, locus: 30',\n",
       " '31': 'G31_SE001, sequence type: type1, locus: 31',\n",
       " '32': 'G32_SE001, sequence type: type1, locus: 32',\n",
       " '33': 'G33_SE001, sequence type: type1, locus: 33',\n",
       " '34': 'G34_SE001, sequence type: type1, locus: 34',\n",
       " '35': 'G35_SE001, sequence type: type1, locus: 35',\n",
       " '36': 'G36_SE001, sequence type: type1, locus: 36',\n",
       " '37': 'G37_SE001, sequence type: type1, locus: 37',\n",
       " '38': 'G38_SE001, sequence type: type1, locus: 38',\n",
       " '39': 'G39_SE001, sequence type: type1, locus: 39',\n",
       " '40': 'G40_SE001, sequence type: type1, locus: 40',\n",
       " '41': 'G41_SE001, sequence type: type1, locus: 41',\n",
       " '42': 'G42_SE001, sequence type: type1, locus: 42',\n",
       " '43': 'G43_SE001, sequence type: type1, locus: 43',\n",
       " '44': 'G44_SE001, sequence type: type1, locus: 44',\n",
       " '45': 'G45_SE001, sequence type: type1, locus: 45',\n",
       " '46': 'G46_SE001, sequence type: type1, locus: 46',\n",
       " '47': 'G47_SE001, sequence type: type1, locus: 47',\n",
       " '48': 'G48_SE001, sequence type: type1, locus: 48',\n",
       " '49': 'G49_SE001, sequence type: type1, locus: 49',\n",
       " '50': 'G50_SE001, sequence type: type1, locus: 50',\n",
       " '51': 'G51_SE001, sequence type: type1, locus: 51',\n",
       " '52': 'G52_SE001, sequence type: type1, locus: 52',\n",
       " '53': 'G53_SE001, sequence type: type1, locus: 53',\n",
       " '54': 'G54_SE001, sequence type: type1, locus: 54',\n",
       " '55': 'G55_SE001, sequence type: type1, locus: 55',\n",
       " '56': 'G56_SE001, sequence type: type1, locus: 56',\n",
       " '57': 'G57_SE001, sequence type: type1, locus: 57',\n",
       " '58': 'G58_SE001, sequence type: type1, locus: 58',\n",
       " '59': 'G59_SE001, sequence type: type1, locus: 59',\n",
       " '60': 'G60_SE001, sequence type: type1, locus: 60',\n",
       " '61': 'G61_SE001, sequence type: type1, locus: 61',\n",
       " '62': 'G62_SE001, sequence type: type1, locus: 62',\n",
       " '63': 'G63_SE001, sequence type: type1, locus: 63',\n",
       " '64': 'G64_SE001, sequence type: type1, locus: 64',\n",
       " '65': 'G65_SE001, sequence type: type1, locus: 65',\n",
       " '66': 'G66_SE001, sequence type: type1, locus: 66',\n",
       " '67': 'G67_SE001, sequence type: type1, locus: 67',\n",
       " '68': 'G68_SE001, sequence type: type1, locus: 68',\n",
       " '69': 'G69_SE001, sequence type: type1, locus: 69',\n",
       " '70': 'G70_SE001, sequence type: type1, locus: 70',\n",
       " '71': 'G71_SE001, sequence type: type1, locus: 71',\n",
       " '72': 'G72_SE001, sequence type: type1, locus: 72',\n",
       " '73': 'G73_SE001, sequence type: type1, locus: 73',\n",
       " '74': 'G74_SE001, sequence type: type1, locus: 74',\n",
       " '75': 'G75_SE001, sequence type: type1, locus: 75',\n",
       " '76': 'G76_SE001, sequence type: type1, locus: 76',\n",
       " '77': 'G77_SE001, sequence type: type1, locus: 77',\n",
       " '78': 'G78_SE001, sequence type: type1, locus: 78',\n",
       " '79': 'G79_SE001, sequence type: type1, locus: 79',\n",
       " '80': 'G80_SE001, sequence type: type1, locus: 80',\n",
       " '81': 'G81_SE001, sequence type: type1, locus: 81',\n",
       " '82': 'G82_SE001, sequence type: type1, locus: 82',\n",
       " '83': 'G83_SE001, sequence type: type1, locus: 83',\n",
       " '84': 'G84_SE001, sequence type: type1, locus: 84',\n",
       " '85': 'G85_SE001, sequence type: type1, locus: 85',\n",
       " '86': 'G86_SE001, sequence type: type1, locus: 86',\n",
       " '87': 'G87_SE001, sequence type: type1, locus: 87',\n",
       " '88': 'G88_SE001, sequence type: type1, locus: 88',\n",
       " '89': 'G89_SE001, sequence type: type1, locus: 89',\n",
       " '90': 'G90_SE001, sequence type: type1, locus: 90',\n",
       " '91': 'G91_SE001, sequence type: type1, locus: 91',\n",
       " '92': 'G92_SE001, sequence type: type1, locus: 92',\n",
       " '93': 'G93_SE001, sequence type: type1, locus: 93',\n",
       " '94': 'G94_SE001, sequence type: type1, locus: 94',\n",
       " '95': 'G95_SE001, sequence type: type1, locus: 95',\n",
       " '96': 'G96_SE001, sequence type: type1, locus: 96',\n",
       " '97': 'G97_SE001, sequence type: type1, locus: 97',\n",
       " '98': 'G98_SE001, sequence type: type1, locus: 98',\n",
       " '99': 'G99_SE001, sequence type: type1, locus: 99',\n",
       " '100': 'G100_SE001, sequence type: type1, locus: 100'}"
      ]
     },
     "execution_count": 128,
     "metadata": {},
     "output_type": "execute_result"
    }
   ],
   "source": [
    "#locus_to_id(\"test_data/DB/SE001_aa.fa\")"
   ]
  },
  {
   "cell_type": "code",
   "execution_count": 149,
   "metadata": {},
   "outputs": [],
   "source": [
    "def get_locus(directory):\n",
    "    \n",
    "    \"\"\"\n",
    "    This function goes through each file of a folder and build a dictionary containing loci \n",
    "    as keys and the related protein ID as values. For each entry in the dictionary, the function \n",
    "    updates the corresponding :obj:`pyham.abstractgene.Gene` by adding its locus.\n",
    "\n",
    "    Args:\n",
    "        directory (:obj:`str`): directory of interest.\n",
    "\n",
    "    Returns:\n",
    "        xxx\n",
    "    \"\"\"\n",
    "\n",
    "    path = directory\n",
    "    for file in os.listdir(path):\n",
    "        ##print('File:', file)\n",
    "        path_to_file = path + '/' + file\n",
    "        locus_dictionary = locus_to_id(path_to_file)\n",
    " \n",
    "        for (loci, gene_id) in locus_dictionary.items():\n",
    "            gene = ham_analysis_no_name.get_genes_by_external_id(gene_id)\n",
    "            \n",
    "            # each gene should only map to 1 other gene, so should always be length 1...\n",
    "            assert len(gene) == 1, 'gene_id maps to multiple entries'\n",
    "            gene[0].locus = loci\n",
    "            #for element in gene:\n",
    "            #    element.locus = loci\n",
    "#                print(element.locus)\n",
    "                \n",
    "        ham_analysis_no_name.get_extant_genome_by_name('.'.join(file.split('.')[:-1])).locus_assignment = True"
   ]
  },
  {
   "cell_type": "code",
   "execution_count": 150,
   "metadata": {},
   "outputs": [],
   "source": [
    "get_locus('test_data/DB')\n"
   ]
  },
  {
   "cell_type": "code",
   "execution_count": 136,
   "metadata": {},
   "outputs": [],
   "source": [
    "x = {1: 'v 1',\n",
    "     2: 'v 2'}"
   ]
  },
  {
   "cell_type": "code",
   "execution_count": 137,
   "metadata": {},
   "outputs": [
    {
     "data": {
      "text/plain": [
       "[1, 2]"
      ]
     },
     "execution_count": 137,
     "metadata": {},
     "output_type": "execute_result"
    }
   ],
   "source": [
    "list(x)"
   ]
  },
  {
   "cell_type": "code",
   "execution_count": 138,
   "metadata": {},
   "outputs": [
    {
     "data": {
      "text/plain": [
       "[1, 2]"
      ]
     },
     "execution_count": 138,
     "metadata": {},
     "output_type": "execute_result"
    }
   ],
   "source": [
    "list(x.keys())"
   ]
  },
  {
   "cell_type": "code",
   "execution_count": 139,
   "metadata": {},
   "outputs": [
    {
     "data": {
      "text/plain": [
       "['v 1', 'v 2']"
      ]
     },
     "execution_count": 139,
     "metadata": {},
     "output_type": "execute_result"
    }
   ],
   "source": [
    "list(x.values())"
   ]
  },
  {
   "cell_type": "code",
   "execution_count": 140,
   "metadata": {},
   "outputs": [
    {
     "data": {
      "text/plain": [
       "[(1, 'v 1'), (2, 'v 2')]"
      ]
     },
     "execution_count": 140,
     "metadata": {},
     "output_type": "execute_result"
    }
   ],
   "source": [
    "list(x.items())"
   ]
  },
  {
   "cell_type": "code",
   "execution_count": null,
   "metadata": {},
   "outputs": [],
   "source": []
  }
 ],
 "metadata": {
  "kernelspec": {
   "display_name": "Python [conda env:py3]",
   "language": "python",
   "name": "conda-env-py3-py"
  },
  "language_info": {
   "codemirror_mode": {
    "name": "ipython",
    "version": 3
   },
   "file_extension": ".py",
   "mimetype": "text/x-python",
   "name": "python",
   "nbconvert_exporter": "python",
   "pygments_lexer": "ipython3",
   "version": "3.7.5"
  }
 },
 "nbformat": 4,
 "nbformat_minor": 2
}
