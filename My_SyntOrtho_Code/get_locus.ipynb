{
 "cells": [
  {
   "cell_type": "markdown",
   "metadata": {},
   "source": [
    "# Locus extraction"
   ]
  },
  {
   "cell_type": "code",
   "execution_count": 34,
   "metadata": {},
   "outputs": [],
   "source": [
    "import pyham\n",
    "from Bio import SeqIO\n",
    "import os\n",
    "\n",
    "# Path to nwk file\n",
    "nwk_path = \"./data/RealTree.nwk\"\n",
    "\n",
    "# The newick tree is extracted as a string\n",
    "tree_str = pyham.utils.get_newick_string(nwk_path, type=\"nwk\")\n",
    "\n",
    "# Path to OrthoXML file\n",
    "orthoxml_path = \"./data/hogs.orthoxml\"\n",
    "\n",
    "ham_analysis = pyham.Ham(tree_str, orthoxml_path, use_internal_name=True)"
   ]
  },
  {
   "cell_type": "code",
   "execution_count": 35,
   "metadata": {},
   "outputs": [],
   "source": [
    "def locus_by_id(file):\n",
    "    \n",
    "    '''\n",
    "    This function extracts the locus from a fasta file and store the information in a dictionary \n",
    "    with the related protein ID as key.\n",
    "    '''\n",
    "    \n",
    "    locus_by_id = {}\n",
    "    for seq_record in SeqIO.parse(file, 'fasta'):\n",
    "        locus_by_id[seq_record.id[:-1]] = int(seq_record.description.split(',')[2][7:])\n",
    "    return locus_by_id\n",
    "\n",
    "def get_locus(directory):\n",
    "    \n",
    "    '''\n",
    "    This function goes through each file of a folder to build the dictionary with the protein IDs \n",
    "    as keys and their related locus as values. For each entry in the dictionary, the function \n",
    "    updates the corresponding gene object by adding its locus.\n",
    "    '''\n",
    "    \n",
    "    path = directory\n",
    "    for file in os.listdir(path):\n",
    "        path_to_file = path + '/' + file\n",
    "        locus_dictionary = locus_by_id(path_to_file)\n",
    "        \n",
    "        for key in locus_dictionary:\n",
    "            gene = ham_analysis.get_genes_by_external_id(key)\n",
    "            for element in gene:\n",
    "                element.locus = locus_dictionary[key]"
   ]
  },
  {
   "cell_type": "code",
   "execution_count": 36,
   "metadata": {},
   "outputs": [],
   "source": [
    "get_locus('/Users/karimsaied/Documents/biology/master/mls_2018/master_project/data/DB')"
   ]
  },
  {
   "cell_type": "markdown",
   "metadata": {},
   "source": [
    "### Sanity check"
   ]
  },
  {
   "cell_type": "code",
   "execution_count": 37,
   "metadata": {},
   "outputs": [
    {
     "name": "stdout",
     "output_type": "stream",
     "text": [
      "20005\n"
     ]
    }
   ],
   "source": [
    "list_genes = ham_analysis.get_list_extant_genes()\n",
    "\n",
    "genes_with_locus = 0\n",
    "for gene in list_genes:\n",
    "    if gene.locus:\n",
    "        genes_with_locus += 1\n",
    "\n",
    "print(genes_with_locus)"
   ]
  }
 ],
 "metadata": {
  "kernelspec": {
   "display_name": "Python 3",
   "language": "python",
   "name": "python3"
  },
  "language_info": {
   "codemirror_mode": {
    "name": "ipython",
    "version": 3
   },
   "file_extension": ".py",
   "mimetype": "text/x-python",
   "name": "python",
   "nbconvert_exporter": "python",
   "pygments_lexer": "ipython3",
   "version": "3.6.4"
  }
 },
 "nbformat": 4,
 "nbformat_minor": 2
}
