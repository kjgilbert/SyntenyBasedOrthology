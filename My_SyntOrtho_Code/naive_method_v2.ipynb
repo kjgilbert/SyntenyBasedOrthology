{
 "cells": [
  {
   "cell_type": "markdown",
   "metadata": {},
   "source": [
    "# Master project main script"
   ]
  },
  {
   "cell_type": "markdown",
   "metadata": {},
   "source": [
    "The following cell aims to visualize the different internal nodes"
   ]
  },
  {
   "cell_type": "code",
   "execution_count": 62,
   "metadata": {},
   "outputs": [
    {
     "name": "stdout",
     "output_type": "stream",
     "text": [
      "\t- SE003_aa/SE005_aa/SE007_aa\n",
      "\t- SE001_aa/SE003_aa/SE005_aa/SE007_aa/SE004_aa/SE008_aa/SE010_aa/SE006_aa/SE009_aa/SE002_aa\n",
      "\t- SE004_aa/SE008_aa/SE010_aa\n",
      "\t- SE005_aa/SE007_aa\n",
      "\t- SE008_aa/SE010_aa\n",
      "\t- SE001_aa/SE003_aa/SE005_aa/SE007_aa/SE004_aa/SE008_aa/SE010_aa/SE006_aa/SE009_aa\n",
      "\t- SE006_aa/SE009_aa\n",
      "\t- SE003_aa/SE005_aa/SE007_aa/SE004_aa/SE008_aa/SE010_aa/SE006_aa/SE009_aa\n",
      "\t- SE004_aa/SE008_aa/SE010_aa/SE006_aa/SE009_aa\n"
     ]
    }
   ],
   "source": [
    "for ag in ham_analysis_no_name.taxonomy.internal_nodes:\n",
    "    print(\"\\t- {}\".format(ag.name))"
   ]
  },
  {
   "cell_type": "code",
   "execution_count": 303,
   "metadata": {},
   "outputs": [],
   "source": [
    "import pyham\n",
    "from Bio import SeqIO\n",
    "import os\n",
    "import matplotlib.pyplot as plt\n",
    "\n",
    "# Path to nwk file\n",
    "nwk_path = \"./data/no_events/RealTree.nwk\"\n",
    "\n",
    "# The newick tree is extracted as a string\n",
    "tree_str = pyham.utils.get_newick_string(nwk_path, type=\"nwk\")\n",
    "\n",
    "# Path to OrthoXML file\n",
    "orthoxml_path = \"./data/no_events/Output/HierarchicalGroups.orthoxml\"\n",
    "\n",
    "#ham_analysis = pyham.Ham(tree_str, orthoxml_path, use_internal_name=True)\n",
    "ham_analysis_no_name = pyham.Ham(tree_str, orthoxml_path, use_internal_name=False)"
   ]
  },
  {
   "cell_type": "markdown",
   "metadata": {},
   "source": [
    "## Loci assignment"
   ]
  },
  {
   "cell_type": "code",
   "execution_count": 304,
   "metadata": {},
   "outputs": [],
   "source": [
    "def locus_to_id(file):\n",
    "    \n",
    "    \"\"\"\n",
    "    This function extracts loci from a fasta file and store the information as keys in a dictionary \n",
    "    and the related protein ID as value.\n",
    "\n",
    "    Args:\n",
    "        file (:obj:`str`): path to the file of interest.\n",
    "\n",
    "    Returns:\n",
    "        a dictionary mapping locus (:obj:`str`) with protein ID (:obj:`str`).\n",
    "    \"\"\"\n",
    "    \n",
    "    locus_to_id = {}\n",
    "    for seq_record in SeqIO.parse(file, 'fasta'):\n",
    "        locus_to_id[int(seq_record.description.split('locus: ')[-1])] = seq_record.description  # In the orthoxml file, the external id correspond to the description, this '.description' is used instead of '.id[:-1]'\n",
    "            \n",
    "    return locus_to_id"
   ]
  },
  {
   "cell_type": "code",
   "execution_count": 305,
   "metadata": {},
   "outputs": [],
   "source": [
    "def get_locus(directory):\n",
    "    \n",
    "    \"\"\"\n",
    "    This function goes through each file of a folder and build a dictionary containing loci \n",
    "    as keys and the related protein ID as values. For each entry in the dictionary, the function \n",
    "    updates the corresponding :obj:`pyham.abstractgene.Gene` by adding its locus.\n",
    "\n",
    "    Args:\n",
    "        directory (:obj:`str`): directory of interest.\n",
    "\n",
    "    Returns:\n",
    "        xxx\n",
    "    \"\"\"\n",
    "\n",
    "    path = directory\n",
    "    for file in os.listdir(path):\n",
    "        path_to_file = path + '/' + file\n",
    "        locus_dictionary = locus_to_id(path_to_file)\n",
    " \n",
    "        for entry in locus_dictionary:\n",
    "            gene = ham_analysis_no_name.get_genes_by_external_id(locus_dictionary[entry])\n",
    "            for element in gene:\n",
    "                element.locus = entry\n",
    "                \n",
    "        ham_analysis_no_name.get_extant_genome_by_name(file[:-3]).locus_assignment = True  # -6 before"
   ]
  },
  {
   "cell_type": "code",
   "execution_count": 306,
   "metadata": {},
   "outputs": [],
   "source": [
    "get_locus('/Users/karimsaied/Documents/biology/master/mls_2018/master_project/data/no_events/DB')"
   ]
  },
  {
   "cell_type": "code",
   "execution_count": 337,
   "metadata": {},
   "outputs": [],
   "source": [
    "def get_gene_by_locus(genome, locus):\n",
    "    \n",
    "    \"\"\"\n",
    "    Get a :obj:`pyham.abstractgene.Gene` that match the query locus. \n",
    "\n",
    "    Args:\n",
    "        genome (:obj:`pyham.genome.Genome`): extant genome of interest.\n",
    "        locus (:obj:`int`): locus\n",
    "\n",
    "    Returns:\n",
    "        :obj:`pyham.abstractgene.Gene`\n",
    "    \"\"\"\n",
    "    \n",
    "    for gene in genome.genes:\n",
    "        if gene.locus == locus:\n",
    "            return gene \n",
    "    \n",
    "    return None"
   ]
  },
  {
   "cell_type": "markdown",
   "metadata": {},
   "source": [
    "### Sanity check for loci assignment"
   ]
  },
  {
   "cell_type": "code",
   "execution_count": 298,
   "metadata": {},
   "outputs": [
    {
     "name": "stdout",
     "output_type": "stream",
     "text": [
      "All genome have been processed!\n"
     ]
    }
   ],
   "source": [
    "# First a list of genome object is created.\n",
    "genomes = [ham_analysis_no_name.get_extant_genome_by_name(file[:-3]) \n",
    "           for file in os.listdir('/Users/karimsaied/Documents/biology/master/mls_2018/master_project/data/no_events/DB')]\n",
    "processed = []\n",
    "\n",
    "for genome in genomes:\n",
    "    if genome.locus_assignment:\n",
    "        processed.append(True)\n",
    "    else:\n",
    "        processed.append(False)\n",
    "\n",
    "if False in processed:\n",
    "    print('Some genomes have not been processed.')\n",
    "else:\n",
    "    print('All genome have been processed!')"
   ]
  },
  {
   "cell_type": "markdown",
   "metadata": {},
   "source": [
    "## Neighbors assignment"
   ]
  },
  {
   "cell_type": "markdown",
   "metadata": {},
   "source": [
    "The following cell aims to pinpoint the issue I encounter with some ancestral genome"
   ]
  },
  {
   "cell_type": "code",
   "execution_count": 336,
   "metadata": {},
   "outputs": [
    {
     "name": "stdout",
     "output_type": "stream",
     "text": [
      "[<HOG()>, <HOG()>, <HOG()>, <HOG()>, <HOG()>, <HOG()>, <HOG()>, <HOG()>, <HOG()>, <HOG()>, <HOG()>, <HOG()>, <HOG()>, <HOG()>, <HOG()>, <HOG()>, <HOG()>, <HOG()>, <HOG()>, <HOG()>, <HOG()>, <HOG()>, <HOG()>, <HOG()>, <HOG()>, <HOG()>, <HOG()>, <HOG()>, <HOG()>, <HOG()>, <HOG()>, <HOG()>, <HOG()>, <HOG()>, <HOG()>, <HOG()>, <HOG()>, <HOG()>, <HOG()>, <HOG()>, <HOG()>, <HOG()>, <HOG()>, <HOG()>, <HOG()>, <HOG()>, <HOG()>, <HOG()>, <HOG()>, <HOG()>, <HOG()>, <HOG()>, <HOG()>, <HOG()>, <HOG()>, <HOG()>, <HOG()>, <HOG()>, <HOG()>, <HOG()>, <HOG()>, <HOG()>, <HOG()>, <HOG()>, <HOG()>, <HOG()>, <HOG()>, <HOG()>, <HOG()>, <HOG()>, <HOG()>, <HOG()>, <HOG()>, <HOG()>, <HOG()>, <HOG()>, <HOG()>, <HOG()>, <HOG()>, <HOG()>, <HOG()>, <HOG()>, <HOG()>, <HOG()>, <HOG()>, <HOG()>, <HOG()>, <HOG()>, <HOG()>, <HOG()>, <HOG()>, <HOG()>, <HOG()>, <HOG()>, <HOG()>, <HOG()>, <HOG()>, <HOG()>, <HOG()>, <HOG()>, <HOG()>, <HOG()>, <HOG()>, <HOG()>, <HOG()>, <HOG()>, <HOG()>, <HOG()>, <HOG()>, <HOG()>, <HOG()>, <HOG()>, <HOG()>, <HOG()>, <HOG()>, <HOG()>, <HOG()>, <HOG()>, <HOG()>, <HOG()>, <HOG()>, <HOG()>, <HOG()>, <HOG()>, <HOG()>, <HOG()>, <HOG()>, <HOG()>, <HOG()>, <HOG()>, <HOG()>, <HOG()>, <HOG()>, <HOG()>, <HOG()>, <HOG()>, <HOG()>, <HOG()>, <HOG()>, <HOG()>, <HOG()>, <HOG()>, <HOG()>, <HOG()>, <HOG()>, <HOG()>, <HOG()>, <HOG()>, <HOG()>, <HOG()>, <HOG()>, <HOG()>, <HOG()>, <HOG()>, <HOG()>, <HOG()>, <HOG()>, <HOG()>, <HOG()>, <HOG()>, <HOG()>, <HOG()>, <HOG()>, <HOG()>, <HOG()>, <HOG()>, <HOG()>, <HOG()>, <HOG()>, <HOG()>, <HOG()>, <HOG()>, <HOG()>, <HOG()>, <HOG()>, <HOG()>, <HOG()>, <HOG()>, <HOG()>, <HOG()>, <HOG()>, <HOG()>, <HOG()>, <HOG()>, <HOG()>, <HOG()>, <HOG()>, <HOG()>, <HOG()>, <HOG()>, <HOG()>, <HOG()>, <HOG()>, <HOG()>, <HOG()>, <HOG()>, <HOG()>, <HOG()>, <HOG()>, <HOG()>, <HOG()>, <HOG()>, <HOG()>, <HOG()>, <HOG()>, <HOG()>, <HOG()>, <HOG()>, <HOG()>, <HOG()>, <HOG()>, <HOG()>, <HOG()>, <HOG()>, <HOG()>, <HOG()>, <HOG()>, <HOG()>, <HOG()>, <HOG()>, <HOG()>, <HOG()>, <HOG()>, <HOG()>, <HOG()>, <HOG()>, <HOG()>, <HOG()>, <HOG()>, <HOG()>, <HOG()>, <HOG()>, <HOG()>, <HOG()>, <HOG()>, <HOG()>, <HOG()>, <HOG()>, <HOG()>, <HOG()>, <HOG()>, <HOG()>, <HOG()>, <HOG()>, <HOG()>, <HOG()>, <HOG()>, <HOG()>, <HOG()>, <HOG()>, <HOG()>, <HOG()>, <HOG()>, <HOG()>, <HOG()>, <HOG()>, <HOG()>, <HOG()>, <HOG()>, <HOG()>, <HOG()>, <HOG()>, <HOG()>, <HOG()>, <HOG()>, <HOG()>, <HOG()>, <HOG()>, <HOG()>, <HOG()>, <HOG()>, <HOG()>, <HOG()>, <HOG()>, <HOG()>, <HOG()>, <HOG()>, <HOG()>, <HOG()>, <HOG()>, <HOG()>, <HOG()>, <HOG()>, <HOG()>, <HOG()>, <HOG()>, <HOG()>, <HOG()>, <HOG()>, <HOG()>, <HOG()>, <HOG()>, <HOG()>, <HOG()>, <HOG()>, <HOG()>, <HOG()>, <HOG()>, <HOG()>, <HOG()>, <HOG()>, <HOG()>, <HOG()>, <HOG()>, <HOG()>, <HOG()>, <HOG()>, <HOG()>, <HOG()>, <HOG()>, <HOG()>, <HOG()>, <HOG()>, <HOG()>, <HOG()>, <HOG()>, <HOG()>, <HOG()>, <HOG()>, <HOG()>, <HOG()>, <HOG()>, <HOG()>, <HOG()>, <HOG()>, <HOG()>, <HOG()>, <HOG()>, <HOG()>, <HOG()>, <HOG()>, <HOG()>, <HOG()>, <HOG()>, <HOG()>, <HOG()>, <HOG()>, <HOG()>, <HOG()>, <HOG()>, <HOG()>, <HOG()>, <HOG()>, <HOG()>, <HOG()>, <HOG()>, <HOG()>, <HOG()>, <HOG()>, <HOG()>, <HOG()>, <HOG()>, <HOG()>, <HOG()>, <HOG()>, <HOG()>, <HOG()>, <HOG()>, <HOG()>, <HOG()>, <HOG()>, <HOG()>, <HOG()>, <HOG()>, <HOG()>, <HOG()>, <HOG()>, <HOG()>, <HOG()>, <HOG()>, <HOG()>, <HOG()>, <HOG()>, <HOG()>, <HOG()>, <HOG()>, <HOG()>, <HOG()>, <HOG()>, <HOG()>, <HOG()>, <HOG()>, <HOG()>, <HOG()>, <HOG()>, <HOG()>, <HOG()>, <HOG()>, <HOG()>, <HOG()>, <HOG()>, <HOG()>, <HOG()>, <HOG()>, <HOG()>, <HOG()>, <HOG()>, <HOG()>, <HOG()>, <HOG()>, <HOG()>, <HOG()>, <HOG()>, <HOG()>, <HOG()>, <HOG()>, <HOG()>, <HOG()>, <HOG()>, <HOG()>, <HOG()>, <HOG()>, <HOG()>, <HOG()>, <HOG()>, <HOG()>, <HOG()>, <HOG()>, <HOG()>, <HOG()>, <HOG()>, <HOG()>, <HOG()>, <HOG()>, <HOG()>, <HOG()>, <HOG()>, <HOG()>, <HOG()>, <HOG()>, <HOG()>, <HOG()>, <HOG()>, <HOG()>, <HOG()>, <HOG()>, <HOG()>, <HOG()>, <HOG()>, <HOG()>, <HOG()>, <HOG()>, <HOG()>, <HOG()>, <HOG()>, <HOG()>, <HOG()>, <HOG()>, <HOG()>, <HOG()>, <HOG()>, <HOG()>, <HOG()>, <HOG()>, <HOG()>, <HOG()>, <HOG()>, <HOG()>, <HOG()>, <HOG()>, <HOG()>, <HOG()>, <HOG()>, <HOG()>, <HOG()>, <HOG()>, <HOG()>, <HOG()>, <HOG()>, <HOG()>, <HOG()>, <HOG()>, <HOG()>, <HOG()>, <HOG()>, <HOG()>, <HOG()>, <HOG()>, <HOG()>, <HOG()>, <HOG()>, <HOG()>, <HOG()>, <HOG()>, <HOG()>, <HOG()>, <HOG()>, <HOG()>, <HOG()>, <HOG()>, <HOG()>, <HOG()>, <HOG()>, <HOG()>, <HOG()>, <HOG()>, <HOG()>, <HOG()>, <HOG()>, <HOG()>, <HOG()>, <HOG()>, <HOG()>, <HOG()>, <HOG()>, <HOG()>, <HOG()>, <HOG()>, <HOG()>, <HOG()>, <HOG()>, <HOG()>, <HOG()>, <HOG()>, <HOG()>, <HOG()>, <HOG()>, <HOG()>, <HOG()>, <HOG()>, <HOG()>, <HOG()>, <HOG()>, <HOG()>, <HOG()>, <HOG()>, <HOG()>, <HOG()>, <HOG()>, <HOG()>, <HOG()>, <HOG()>, <HOG()>, <HOG()>, <HOG()>, <HOG()>, <HOG()>, <HOG()>, <HOG()>, <HOG()>, <HOG()>, <HOG()>, <HOG()>, <HOG()>, <HOG()>, <HOG()>, <HOG()>, <HOG()>, <HOG()>, <HOG()>, <HOG()>, <HOG()>, <HOG()>, <HOG()>, <HOG()>, <HOG()>, <HOG()>, <HOG()>, <HOG()>, <HOG()>, <HOG()>, <HOG()>, <HOG()>, <HOG()>, <HOG()>, <HOG()>, <HOG()>, <HOG()>, <HOG()>, <HOG()>, <HOG()>, <HOG()>, <HOG()>, <HOG()>, <HOG()>, <HOG()>, <HOG()>, <HOG()>, <HOG()>, <HOG()>, <HOG()>, <HOG()>, <HOG()>, <HOG()>, <HOG()>, <HOG()>, <HOG()>, <HOG()>, <HOG()>, <HOG()>, <HOG()>, <HOG()>, <HOG()>, <HOG()>, <HOG()>, <HOG()>, <HOG()>, <HOG()>, <HOG()>, <HOG()>, <HOG()>, <HOG()>, <HOG()>, <HOG()>, <HOG()>, <HOG()>, <HOG()>, <HOG()>, <HOG()>, <HOG()>, <HOG()>, <HOG()>, <HOG()>, <HOG()>, <HOG()>, <HOG()>, <HOG()>, <HOG()>, <HOG()>, <HOG()>, <HOG()>, <HOG()>, <HOG()>, <HOG()>, <HOG()>, <HOG()>, <HOG()>, <HOG()>, <HOG()>, <HOG()>, <HOG()>, <HOG()>, <HOG()>, <HOG()>, <HOG()>, <HOG()>, <HOG()>, <HOG()>, <HOG()>, <HOG()>, <HOG()>, <HOG()>, <HOG()>, <HOG()>, <HOG()>, <HOG()>, <HOG()>, <HOG()>, <HOG()>, <HOG()>, <HOG()>, <HOG()>, <HOG()>, <HOG()>, <HOG()>, <HOG()>, <HOG()>, <HOG()>, <HOG()>, <HOG()>, <HOG()>, <HOG()>, <HOG()>, <HOG()>, <HOG()>, <HOG()>, <HOG()>, <HOG()>, <HOG()>, <HOG()>, <HOG()>, <HOG()>, <HOG()>, <HOG()>, <HOG()>, <HOG()>, <HOG()>, <HOG()>, <HOG()>, <HOG()>, <HOG()>, <HOG()>, <HOG()>, <HOG()>, <HOG()>, <HOG()>, <HOG()>, <HOG()>, <HOG()>, <HOG()>, <HOG()>, <HOG()>, <HOG()>, <HOG()>, <HOG()>, <HOG()>, <HOG()>, <HOG()>, <HOG()>, <HOG()>]\n",
      "(<HOG()>, None)\n"
     ]
    },
    {
     "ename": "AttributeError",
     "evalue": "'HOG' object has no attribute 'neighbors'",
     "output_type": "error",
     "traceback": [
      "\u001b[0;31m---------------------------------------------------------------------------\u001b[0m",
      "\u001b[0;31mAttributeError\u001b[0m                            Traceback (most recent call last)",
      "\u001b[0;32m<ipython-input-336-ceeedf3ecbde>\u001b[0m in \u001b[0;36m<module>\u001b[0;34m()\u001b[0m\n\u001b[1;32m      2\u001b[0m \u001b[0mprint\u001b[0m\u001b[0;34m(\u001b[0m\u001b[0manc_genome\u001b[0m\u001b[0;34m.\u001b[0m\u001b[0mgenes\u001b[0m\u001b[0;34m)\u001b[0m\u001b[0;34m\u001b[0m\u001b[0m\n\u001b[1;32m      3\u001b[0m \u001b[0mprint\u001b[0m\u001b[0;34m(\u001b[0m\u001b[0manc_genome\u001b[0m\u001b[0;34m.\u001b[0m\u001b[0mgenes\u001b[0m\u001b[0;34m[\u001b[0m\u001b[0;36m0\u001b[0m\u001b[0;34m]\u001b[0m\u001b[0;34m.\u001b[0m\u001b[0mneighbors\u001b[0m\u001b[0;34m)\u001b[0m\u001b[0;34m\u001b[0m\u001b[0m\n\u001b[0;32m----> 4\u001b[0;31m \u001b[0mprint\u001b[0m\u001b[0;34m(\u001b[0m\u001b[0manc_genome\u001b[0m\u001b[0;34m.\u001b[0m\u001b[0mgenes\u001b[0m\u001b[0;34m[\u001b[0m\u001b[0;36m9\u001b[0m\u001b[0;34m]\u001b[0m\u001b[0;34m.\u001b[0m\u001b[0mneighbors\u001b[0m\u001b[0;34m)\u001b[0m\u001b[0;34m\u001b[0m\u001b[0m\n\u001b[0m\u001b[1;32m      5\u001b[0m \u001b[0mprint\u001b[0m\u001b[0;34m(\u001b[0m\u001b[0manc_genome\u001b[0m\u001b[0;34m.\u001b[0m\u001b[0mgenes\u001b[0m\u001b[0;34m[\u001b[0m\u001b[0;36m1\u001b[0m\u001b[0;34m]\u001b[0m\u001b[0;34m.\u001b[0m\u001b[0mchildren\u001b[0m\u001b[0;34m)\u001b[0m\u001b[0;34m\u001b[0m\u001b[0m\n\u001b[1;32m      6\u001b[0m \u001b[0mprint\u001b[0m\u001b[0;34m(\u001b[0m\u001b[0manc_genome\u001b[0m\u001b[0;34m.\u001b[0m\u001b[0mgenes\u001b[0m\u001b[0;34m[\u001b[0m\u001b[0;36m1\u001b[0m\u001b[0;34m]\u001b[0m\u001b[0;34m.\u001b[0m\u001b[0mchildren\u001b[0m\u001b[0;34m[\u001b[0m\u001b[0;36m0\u001b[0m\u001b[0;34m]\u001b[0m\u001b[0;34m.\u001b[0m\u001b[0mneighbors\u001b[0m\u001b[0;34m)\u001b[0m\u001b[0;34m\u001b[0m\u001b[0m\n",
      "\u001b[0;31mAttributeError\u001b[0m: 'HOG' object has no attribute 'neighbors'"
     ]
    }
   ],
   "source": [
    "anc_genome = ham_analysis_no_name.get_ancestral_genome_by_name('SE003_aa/SE005_aa/SE007_aa/SE004_aa/SE008_aa/SE010_aa/SE006_aa/SE009_aa')\n",
    "print(anc_genome.genes)\n",
    "print(anc_genome.genes[0].neighbors)\n",
    "print(anc_genome.genes[9].neighbors)\n",
    "print(anc_genome.genes[1].children)\n",
    "print(anc_genome.genes[1].children[0].neighbors)\n",
    "print(anc_genome.genes[1].children[1].neighbors)\n",
    "\n",
    "''' /!\\ The first HOG object has neighbors but none of the following has neighbors'''"
   ]
  },
  {
   "cell_type": "code",
   "execution_count": 308,
   "metadata": {},
   "outputs": [],
   "source": [
    "def assign_neighbors(genome):\n",
    "    \n",
    "    \"\"\"\n",
    "    This function assigns a left and right neighbor to each :obj:`pyham.abstractgene.Gene` \n",
    "    or :obj:`pyham.abstractgene.HOG`.\n",
    "\n",
    "    Args:\n",
    "        genome (:obj:`pyham.genome.Genome`): extant or ancestral genome of interest.\n",
    "\n",
    "    Returns:\n",
    "        xxx\n",
    "    \"\"\"\n",
    "    \n",
    "    if isinstance(genome, pyham.ExtantGenome):\n",
    "        \n",
    "        for extant_gene in genome.genes:\n",
    "            extant_gene.neighbors = (get_gene_by_locus(genome, extant_gene.locus-1), \n",
    "                                     get_gene_by_locus(genome, extant_gene.locus+1))  # Tuple to be handle by set further            \n",
    "                        \n",
    "    if isinstance(genome, pyham.AncestralGenome):\n",
    "    \n",
    "        for ancestral_gene in genome.genes:  # For each HOG in the ancestral genome...\n",
    "            \n",
    "            tmp = set()\n",
    "            \n",
    "            for child in ancestral_gene.children:  # For each HOG, their children are considered\n",
    "                # print('child neighbors: {}'.format(child.neighbors))\n",
    "                if child.neighbors[0] == None:\n",
    "                    tmp.add(None)\n",
    "                else:\n",
    "                    tmp.add(child.neighbors[0].parent)\n",
    "                    \n",
    "                if child.neighbors[1] == None:\n",
    "                    tmp.add(None)\n",
    "                else:\n",
    "                    tmp.add(child.neighbors[1].parent)\n",
    "                    \n",
    "            if len(tmp) == 2:  # If all left neighbors have the same parent\n",
    "                ancestral_gene.neighbors = tuple(tmp)  # Extraction of the neighbors from the set\n",
    "            elif len(tmp) > 2:  # If children have different neighbors\n",
    "                ancestral_gene.neighbors = (None, None)\n",
    "                # If one neighbor is in common between tuples in tmp, try to  find a way to get it"
   ]
  },
  {
   "cell_type": "markdown",
   "metadata": {},
   "source": [
    "## Synteny block reconstruction"
   ]
  },
  {
   "cell_type": "code",
   "execution_count": 309,
   "metadata": {},
   "outputs": [],
   "source": [
    "def get_synteny_blocks(genome):\n",
    "    \n",
    "    \"\"\"\n",
    "    This function aims to reconstruct the synteny blocks using the left and right \n",
    "    neighbors of :obj:`pyham.abstractgene`.\n",
    "\n",
    "    Args:\n",
    "        genome (:obj:`pyham.genome.Genome`): extant or ancestral genome of interest.\n",
    "\n",
    "    Returns:\n",
    "        list of lists that contain :obj:`pyham.abstractgene.Gene` or \n",
    "        :obj:`pyham.abstractgene.HOG` in a specific order.\n",
    "    \"\"\"\n",
    "    \n",
    "    syn_blocks = []\n",
    "    seen = []\n",
    "    gene_collection = genome.genes\n",
    "    tmp = []\n",
    "    \n",
    "    for abstract_gene in gene_collection:\n",
    "        if abstract_gene not in seen:  # seen is a list to keep track of already processed gene.\n",
    "            growing_end = abstract_gene\n",
    "            seen.append(abstract_gene)\n",
    "            tmp = [growing_end]  # Temporary list for each synteny block\n",
    "            \n",
    "            for abstract_gene2 in gene_collection:\n",
    "                if growing_end in abstract_gene2.neighbors:\n",
    "                    if abstract_gene2 in growing_end.neighbors:\n",
    "                        seen.append(abstract_gene2)\n",
    "                        tmp.append(abstract_gene2)\n",
    "                        growing_end = abstract_gene2\n",
    "                \n",
    "                else:\n",
    "                    pass\n",
    "                \n",
    "            syn_blocks.append(tmp)\n",
    "        \n",
    "        else:\n",
    "            pass\n",
    "        \n",
    "    genome.synteny = syn_blocks"
   ]
  },
  {
   "cell_type": "markdown",
   "metadata": {},
   "source": [
    "## Processing\n",
    "The tree is traversed and the function created are applied for each node."
   ]
  },
  {
   "cell_type": "code",
   "execution_count": 310,
   "metadata": {},
   "outputs": [
    {
     "name": "stdout",
     "output_type": "stream",
     "text": [
      "SE003_aa/SE005_aa/SE007_aa/SE004_aa/SE008_aa/SE010_aa/SE006_aa/SE009_aa\n",
      "SE001_aa/SE003_aa/SE005_aa/SE007_aa/SE004_aa/SE008_aa/SE010_aa/SE006_aa/SE009_aa\n",
      "SE001_aa/SE003_aa/SE005_aa/SE007_aa/SE004_aa/SE008_aa/SE010_aa/SE006_aa/SE009_aa/SE002_aa\n"
     ]
    }
   ],
   "source": [
    "genome_processed = 0\n",
    "for node in ham_analysis_no_name.taxonomy.tree.traverse('postorder'):\n",
    "    try:\n",
    "        assign_neighbors(node.genome)\n",
    "        get_synteny_blocks(node.genome)\n",
    "    except:\n",
    "        print(node.genome.name)"
   ]
  }
 ],
 "metadata": {
  "kernelspec": {
   "display_name": "Python 3",
   "language": "python",
   "name": "python3"
  },
  "language_info": {
   "codemirror_mode": {
    "name": "ipython",
    "version": 3
   },
   "file_extension": ".py",
   "mimetype": "text/x-python",
   "name": "python",
   "nbconvert_exporter": "python",
   "pygments_lexer": "ipython3",
   "version": "3.6.4"
  }
 },
 "nbformat": 4,
 "nbformat_minor": 2
}
