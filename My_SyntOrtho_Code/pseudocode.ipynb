{
 "cells": [
  {
   "cell_type": "markdown",
   "metadata": {},
   "source": [
    "# Pseudocode"
   ]
  },
  {
   "cell_type": "markdown",
   "metadata": {},
   "source": [
    "The extant genome are located in the DB file. Each file corresponds to a species.\n",
    "\n",
    "Input files:\n",
    "\n",
    "**- Extant genomes**\n",
    "\n",
    "**- OrthoXML file:** hogs.orthoxml\n",
    "\n",
    "**- Tree:** RealTree.nwk\n",
    "\n",
    "Questions: \n",
    "\n",
    "- Which file at the different taxonomic level?"
   ]
  },
  {
   "cell_type": "markdown",
   "metadata": {},
   "source": [
    "### Data structure\n",
    "\n",
    "Each list correspond to a species and each position within a list corresponds to a locus. The position i has the value \"None\" if a species lacks the gene i at locus i. \n",
    "\n",
    "Take one genes and assess it neighbors from each side. Assessement within a specific window.\n",
    "Consider by column and set a conservation score. If a given gene at a given locus has a score bigger than the threshold, the gene is considered as conserved at the specific position. Then consider the neighbors (left and right) and look at their score. Once a score is bellow the threshold in one side, following genes are not considered anymore and only the other side is considered. Once both sides has columns bellow the threshold, the analysis is finish and th syntenic region is saved."
   ]
  },
  {
   "cell_type": "code",
   "execution_count": null,
   "metadata": {},
   "outputs": [],
   "source": [
    "sp1 = [gene1, gene2, gene3, gene4, gene5, ...]\n",
    "sp2 = [gene1, gene2, gene3, None, gene5, ...]\n",
    "sp3 = [gene1, gene2, gene3, None, gene5, ...]\n",
    "sp4 = [gene1, gene2, None, gene4, gene5, ...]\n",
    "sp5 = [gene1, gene2, gene3, gene4, None, ...]\n",
    "...\n",
    "\n",
    "threshold = 0.8\n",
    "synteny = False\n",
    "syntenic_region = []\n",
    "\n",
    "while synteny is False:\n",
    "    consider columns\n",
    "    \n",
    "    for each column:\n",
    "        score = 0\n",
    "        score += sum_geneX/total_sp\n",
    "    \n",
    "    if column_score >= threshold:\n",
    "        synteny = True\n",
    "        syntenic_region.append([geneX, locus])\n",
    "\n",
    "if synteny = True:\n",
    "    right = True\n",
    "    left = True\n",
    "    \n",
    "    while right == True:\n",
    "        consider column i+1\n",
    "\n",
    "        if column_score i+1 >= threshold:\n",
    "            syntenic_region.append([geneX+1, locus+1])\n",
    "        else:\n",
    "            do not consider right columns\n",
    "            right = False\n",
    "    \n",
    "    while left == True:\n",
    "        consider column i-1\n",
    "        \n",
    "        if column_score i-1 >= threshold:\n",
    "            syntenic_region.append([geneX-1, locus+1])\n",
    "        else:\n",
    "            do not consider left columns\n",
    "            left = False\n",
    "\n",
    "if right and left == False:\n",
    "    synteny = False\n",
    "    Back to the beginning"
   ]
  }
 ],
 "metadata": {
  "kernelspec": {
   "display_name": "Python 3",
   "language": "python",
   "name": "python3"
  },
  "language_info": {
   "codemirror_mode": {
    "name": "ipython",
    "version": 3
   },
   "file_extension": ".py",
   "mimetype": "text/x-python",
   "name": "python",
   "nbconvert_exporter": "python",
   "pygments_lexer": "ipython3",
   "version": "3.6.4"
  }
 },
 "nbformat": 4,
 "nbformat_minor": 2
}
