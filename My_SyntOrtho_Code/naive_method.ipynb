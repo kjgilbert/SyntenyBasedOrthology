{
 "cells": [
  {
   "cell_type": "code",
   "execution_count": null,
   "metadata": {},
   "outputs": [],
   "source": [
    "\"\"\"\n",
    "xxx\n",
    "\n",
    "Attributes:\n",
    "    | xxx (:obj:`xxx`): xxx.\n",
    "\n",
    "Returns:\n",
    "    xxx\n",
    "\"\"\""
   ]
  },
  {
   "cell_type": "markdown",
   "metadata": {},
   "source": [
    "# Master project main script"
   ]
  },
  {
   "cell_type": "code",
   "execution_count": 3,
   "metadata": {},
   "outputs": [],
   "source": [
    "import pyham\n",
    "from Bio import SeqIO\n",
    "import os\n",
    "\n",
    "# Path to nwk file\n",
    "nwk_path = \"/Users/admin/phD/data/ALFSIM/KARIM/RealTree.nwk\"\n",
    "\n",
    "# The newick tree is extracted as a string\n",
    "tree_str = pyham.utils.get_newick_string(nwk_path, type=\"nwk\")\n",
    "\n",
    "# Path to OrthoXML file\n",
    "orthoxml_path = \"/Users/admin/phD/data/ALFSIM/KARIM/Output/HOGs_pairs_80.orthoxml\"\n",
    "\n",
    "ham_analysis = pyham.Ham(tree_str, orthoxml_path, use_internal_name=True)\n",
    "\n",
    "ham_analysis_no_name = pyham.Ham(tree_str, orthoxml_path, use_internal_name=False)"
   ]
  },
  {
   "cell_type": "markdown",
   "metadata": {},
   "source": [
    "## Loci assignment"
   ]
  },
  {
   "cell_type": "code",
   "execution_count": null,
   "metadata": {
    "code_folding": [
     0,
     14
    ]
   },
   "outputs": [],
   "source": [
    "def locus_to_id(file):\n",
    "    \n",
    "    '''\n",
    "    This function extracts loci from a fasta file and store the information as keys in a dictionary \n",
    "    and the related protein ID as value.\n",
    "    '''\n",
    "    \n",
    "    locus_to_id = {}\n",
    "    for seq_record in SeqIO.parse(file, 'fasta'):\n",
    "        locus_to_id[int(seq_record.description.split('locus: ')[-1])] = seq_record.id[:-1]\n",
    "            \n",
    "    return locus_to_id\n",
    "\n",
    "\n",
    "def get_locus(directory):\n",
    "    \n",
    "    '''\n",
    "    This function goes through each file of a folder to build a dictionary with loci \n",
    "    as keys and the related protein ID as values. For each entry in the dictionary, the function \n",
    "    updates the corresponding gene object by adding its locus.\n",
    "    '''\n",
    "    \n",
    "    path = directory\n",
    "    for file in os.listdir(path):\n",
    "        path_to_file = path + '/' + file\n",
    "        locus_dictionary = locus_to_id(path_to_file)\n",
    "        \n",
    "        ####### assignement only for file genome \n",
    "        \n",
    "        ## genome_name = get_name_from_fasta_file(file)\n",
    "        \n",
    "        # each gene assign else none\n",
    "        \n",
    "        for entry in locus_dictionary:\n",
    "            gene = ham_analysis_no_name.get_genes_by_external_id(locus_dictionary[entry]) ## more than 1 ?\n",
    "            for element in gene:\n",
    "                element.locus = entry\n",
    "                \n",
    "        once genome/file process genome.locus_Assignement = True\n",
    "                \n",
    "# sanity check\n",
    "\n",
    "look if all ectant have locus_Assignement == True"
   ]
  },
  {
   "cell_type": "code",
   "execution_count": null,
   "metadata": {},
   "outputs": [],
   "source": [
    "get_locus('/Users/admin/phD/data/ALFSIM/KARIM/DB')"
   ]
  },
  {
   "cell_type": "code",
   "execution_count": null,
   "metadata": {
    "code_folding": [
     6
    ]
   },
   "outputs": [],
   "source": [
    "'''\n",
    "Function to get a gene object nowing a specific locus. \n",
    "This function should be used to assign neighbors in this\n",
    "new version of the code.\n",
    "'''\n",
    "\n",
    "def get_gene_by_locus(genome, locus):\n",
    "    for gene in genome.genes:\n",
    "        if gene.locus == locus:\n",
    "            return gene  \n",
    "    return None"
   ]
  },
  {
   "cell_type": "markdown",
   "metadata": {},
   "source": [
    "## Neighbors assignment"
   ]
  },
  {
   "cell_type": "code",
   "execution_count": null,
   "metadata": {
    "code_folding": []
   },
   "outputs": [],
   "source": [
    "def assign_neighbors(genome):\n",
    "    \n",
    "    if isinstance(genome, pyham.ExtantGenome):\n",
    "\n",
    "        for extant_gene in genome.genes: ## if  extant_gene.left set by default to None no need to try catch. \n",
    "            \n",
    "            extant_gene.left = get_gene_by_locus(genome, extant_gene.locus-1)\n",
    "            extant_gene.right = get_gene_by_locus(genome, extant_gene.locus+1)\n",
    "            \n",
    "                        \n",
    "    if isinstance(genome, pyham.AncestralGenome):\n",
    "    \n",
    "        '''\n",
    "        If not all children have the same neighbors, we stop.\n",
    "        If all children have the same neighbors, we assign.\n",
    "        Once the synteny block reconstruction have been made, plot of the synteny size blocks\n",
    "        '''\n",
    "    \n",
    "        for ancestral_gene in genome.genes: # For each HOG in the ancestral genome...\n",
    "                        \n",
    "            left_parent = set() \n",
    "            right_parent = set() \n",
    "            \n",
    "            for child in ancestral_gene.children:\n",
    "                \n",
    "                try: ## why try ? --> use if for child.left.parent\n",
    "                    left_parent.add(child.left.parent)\n",
    "                except:\n",
    "                    left_parent.add(None)\n",
    "                \n",
    "                try: ## why try ? --> use if for child.left.parent\n",
    "                    right_parent.add(child.right.parent)\n",
    "                except:\n",
    "                    right_parent.add(None)\n",
    "            \n",
    "            if len(left_parent) == 1: # If all left neighbors have the same parent\n",
    "                ancestral_gene.left = list(left_parent)[0] # Extraction of the parent from the set\n",
    "            elif None in left_parent or len(left_parent) > 1: # If all children have no left neighbors\n",
    "                ancestral_gene.left = None \n",
    "            \n",
    "            if len(right_parent) == 1: # If all right neighbors have the same parent\n",
    "                ancestral_gene.right = list(right_parent)[0] # Extraction of the parent from the set\n",
    "            elif None in right_parent or len(right_parent) > 1: # If all children have no right neighbors\n",
    "                ancestral_gene.right = None\n",
    "                "
   ]
  },
  {
   "cell_type": "markdown",
   "metadata": {},
   "source": [
    "## Synteny block reconstruction"
   ]
  },
  {
   "cell_type": "code",
   "execution_count": null,
   "metadata": {
    "code_folding": []
   },
   "outputs": [],
   "source": [
    "def get_synteny_blocks(genome):\n",
    "    syn_blocks = []\n",
    "    seen = []\n",
    "    gene_collection = genome.genes\n",
    "    left = True\n",
    "    right = True\n",
    "    tmp = []\n",
    "    \n",
    "    for abstract_gene in gene_collection:\n",
    "        if abstract_gene not in seen: # seen is a list to keep track of already processed gene.\n",
    "            seen.append(abstract_gene)\n",
    "            right_gene = abstract_gene ## ?? current_right\n",
    "            left_gene = abstract_gene ## ??\n",
    "            left = True # When False, the growing of a synteny block is blocked leftward\n",
    "            right = True # When False, the growing of a synteny block is blocked rightward\n",
    "            tmp = [abstract_gene] # Temporary list for each syntenic block\n",
    "            \n",
    "            ## split left and right maybe\n",
    "                    \n",
    "            while left or right:\n",
    "                if right:\n",
    "                    if right_gene.right != None: # For the first iteration, right_gene is the abstract gene itself.\n",
    "                        tmp.append(right_gene.right) # The syntenic block is growing rightward.\n",
    "                        seen.append(right_gene.right)\n",
    "                        right_gene = right_gene.right # The following gene to be investigated rightward for the next iteration is set up\n",
    "                    elif right_gene.right == None:\n",
    "                        right = False # The growing rightward is ended.\n",
    "                \n",
    "                if left:\n",
    "                    if left_gene.left != None:\n",
    "                        tmp.insert(0, left_gene.left) # The gene is append at the begining of the list\n",
    "                        seen.append(left_gene.left)\n",
    "                        left_gene = left_gene.left # The following gene to be investigated leftward for the next iteration is set up\n",
    "                    else:\n",
    "                        left = False\n",
    "            \n",
    "            syn_blocks.append(tmp) # When both left and right variables are set to False, the synteny block (tmp) is added to the list syn_blocks\n",
    "            \n",
    "        else:\n",
    "            pass # If the abstract gene has already been investigated, it is not considered.\n",
    "    \n",
    "    genome.synteny = syn_blocks\n",
    "\n",
    "'''\n",
    "By adding genes at both extremities of a synteny block (tmp), the gene order is maintained.\n",
    "Each genome is assigned with a new attribute (synteny), that is a list of all synteny block reconstructed.\n",
    "len(syn_blocks) return the amount of synteny block reconstructed.\n",
    "'''"
   ]
  },
  {
   "cell_type": "markdown",
   "metadata": {},
   "source": [
    "## Processing\n",
    "The tree is traversed and the function created are applied for each node."
   ]
  },
  {
   "cell_type": "code",
   "execution_count": null,
   "metadata": {
    "scrolled": true
   },
   "outputs": [],
   "source": [
    "\n",
    "number_of_blocks = []\n",
    "\n",
    "for node in ham_analysis_no_name.taxonomy.tree.traverse(): ## make sure .traverse('post_fix) --> bottom up\n",
    "    \n",
    "    assign_neighbors(node.genome)\n",
    "    get_synteny_blocks(node.genome)\n",
    "    \n",
    "    number_of_blocks.append(len(node.genome.synteny))\n"
   ]
  },
  {
   "cell_type": "markdown",
   "metadata": {},
   "source": [
    "## Plot"
   ]
  },
  {
   "cell_type": "code",
   "execution_count": null,
   "metadata": {},
   "outputs": [],
   "source": [
    "import matplotlib.pyplot as plt\n",
    "plt.hist(number_of_blocks, 50)\n",
    "plt.xlabel('Synteny blocks')\n",
    "plt.ylabel('Genome count')\n",
    "plt.title('Histogram of synteny blocks')\n",
    "plt.show()"
   ]
  },
  {
   "cell_type": "markdown",
   "metadata": {},
   "source": [
    "Regarding the first bar, 20 genomes possess one single synteny block, which correspond to extant genomes.\n",
    "The other bars are the ancestral genomes."
   ]
  },
  {
   "cell_type": "code",
   "execution_count": null,
   "metadata": {},
   "outputs": [],
   "source": [
    "from ete3 import Tree, TreeStyle, TextFace\n",
    "\n",
    "t = ham_analysis_no_name.taxonomy.tree\n",
    "\n",
    "# Basic tree style\n",
    "ts = TreeStyle()\n",
    "ts.show_leaf_name = True\n",
    "\n",
    "for node in t:\n",
    "    node.add_face(TextFace(\"[1000:3],[2000:4],[10000:1]\"), column=0, position = \"branch-right\")\n",
    "t.show(tree_style=ts)"
   ]
  },
  {
   "cell_type": "code",
   "execution_count": null,
   "metadata": {
    "code_folding": [
     14
    ]
   },
   "outputs": [],
   "source": [
    "\n",
    "\n",
    "from ete3 import TreeStyle, TextFace, NodeStyle, BarChartFace\n",
    "\n",
    "treeCopy = ham_analysis_no_name.taxonomy.tree.copy(method=\"newick\")\n",
    "\n",
    "pcross each genome genome.hist_value et genome.hist_labels\n",
    "\n",
    "## genome.synteny_block = [[1000gene],[1000gene],200,300] -> hist_data value = [1,1,2] + label = [200,300,1000]\n",
    "\n",
    "max_block = max(all genome -> value )\n",
    "\n",
    "def _layout(node):\n",
    "    \n",
    "    def _add_face(name_feature, value_feature, cnum=1, pos=\"branch-right\"):\n",
    "        node.add_face(TextFace(\"{}: {}\".format(name_feature, value_feature)), column=cnum, position=pos)\n",
    "\n",
    "        _add_face(\"#genes\", node.nbr_genes, cnum=cNbr, pos=posNbr)\n",
    "\n",
    "        if node.retained is not None:\n",
    "            _add_face(\"#Retained\", node.retained, cnum=cAttr, pos=posAtt)\n",
    "\n",
    "        if node.dupl is not None:\n",
    "            _add_face(\"#Duplicated\", node.dupl, cnum=cAttr, pos=posAtt)\n",
    "\n",
    "        if node.gain is not None:\n",
    "            _add_face(\"#Novel\", node.gain, cnum=cAttr, pos=posAtt)\n",
    "\n",
    "        if node.lost is not None:\n",
    "            _add_face(\"#Lost\", node.lost, cnum=cAttr, pos=posAtt)\n",
    "            \n",
    "    hist_data for this node.genome\n",
    "    value = [1,1,2]\n",
    "    _label = ['200','300','1000']\n",
    "    w_plot = 10 * len(_label)\n",
    "    \n",
    "    if node.is_leaf():\n",
    "        pos = \"branch-right\"\n",
    "    else:\n",
    "        pos = \"branch-top\"     \n",
    "    \n",
    "    node.add_face(BarChartFace(values, deviations=None, width=w_plot, height=25, colors=_color_scheme, labels=_label, min_value=0, max_value=max_block, label_fsize=6, scale_fsize=6),column=1, position = pos)\n",
    "    \n",
    "ts = TreeStyle()\n",
    "ts.layout_fn = _layout\n",
    "ts.legend.add_face(BarChartFace(_values_legend, deviations=None, width=w_legend, height=25, colors=_color_scheme, labels=_label_legend, min_value=0, max_value=max_genes, label_fsize=6, scale_fsize=6),column=0)\n",
    "ts.legend_position = 3\n",
    "\n",
    "treeCopy.render(output,tree_style=ts)\n"
   ]
  }
 ],
 "metadata": {
  "hide_input": false,
  "kernelspec": {
   "display_name": "Python 2",
   "language": "python",
   "name": "python2"
  },
  "language_info": {
   "codemirror_mode": {
    "name": "ipython",
    "version": 2
   },
   "file_extension": ".py",
   "mimetype": "text/x-python",
   "name": "python",
   "nbconvert_exporter": "python",
   "pygments_lexer": "ipython2",
   "version": "2.7.10"
  }
 },
 "nbformat": 4,
 "nbformat_minor": 2
}
