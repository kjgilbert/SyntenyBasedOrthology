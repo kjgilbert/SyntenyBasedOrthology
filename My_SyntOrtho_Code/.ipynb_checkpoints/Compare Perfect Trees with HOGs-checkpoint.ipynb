{
 "cells": [
  {
   "cell_type": "markdown",
   "metadata": {},
   "source": [
    "## init\n"
   ]
  },
  {
   "cell_type": "code",
   "execution_count": 1,
   "metadata": {},
   "outputs": [],
   "source": [
    "%load_ext autoreload\n",
    "%autoreload 2\n"
   ]
  },
  {
   "cell_type": "code",
   "execution_count": 2,
   "metadata": {},
   "outputs": [],
   "source": [
    "import pyham\n",
    "import dendropy\n",
    "import random\n",
    "import os \n",
    "import logging\n",
    "import coreapi\n",
    "from ete3 import Tree\n",
    "from coreapi.exceptions import CoreAPIException\n",
    "logging.basicConfig(level=logging.INFO, format=\"%(asctime)s %(name)-12s %(levelname)-8s %(message)s\")"
   ]
  },
  {
   "cell_type": "code",
   "execution_count": 12,
   "metadata": {
    "code_folding": [
     0
    ]
   },
   "outputs": [],
   "source": [
    "#\n",
    "import collections\n",
    "\n",
    "\"\"\"UnionFind.py\n",
    "\n",
    "Union-find data structure. Based on Josiah Carlson's code,\n",
    "http://aspn.activestate.com/ASPN/Cookbook/Python/Recipe/215912\n",
    "with significant additional changes by D. Eppstein and\n",
    "Adrian Altenhoff.\n",
    "\"\"\"\n",
    "\n",
    "class UnionFind(object):\n",
    "    \"\"\"Union-find data structure.\n",
    "\n",
    "    Each unionFind instance X maintains a family of disjoint sets of\n",
    "    hashable objects, supporting the following two methods:\n",
    "\n",
    "    - X[item] returns a name for the set containing the given item.\n",
    "      Each set is named by an arbitrarily-chosen one of its members; as\n",
    "      long as the set remains unchanged it will keep the same name. If\n",
    "      the item is not yet part of a set in X, a new singleton set is\n",
    "      created for it.\n",
    "\n",
    "    - X.union(item1, item2, ...) merges the sets containing each item\n",
    "      into a single larger set.  If any item is not yet part of a set\n",
    "      in X, it is added to X as one of the members of the merged set.\n",
    "    \"\"\"\n",
    "\n",
    "    def __init__(self, elements=None):\n",
    "        \"\"\"Create a new empty union-find structure.\"\"\"\n",
    "        self.weights = {}\n",
    "        self.parents = {}\n",
    "        if not elements is None:\n",
    "            for elem in iter(elements):\n",
    "                self.parents[elem] = elem\n",
    "                self.weights[elem] = 1\n",
    "\n",
    "    def __getitem__(self, obj):\n",
    "        return self.find(obj)\n",
    "\n",
    "    def find(self,obj):\n",
    "        \"\"\"Find and return the name of the set containing the obj.\"\"\"\n",
    "\n",
    "        # check for previously unknown obj. If unknown, add it \n",
    "        # as a new cluster\n",
    "        if obj not in self.parents:\n",
    "            self.parents[obj] = obj\n",
    "            self.weights[obj] = 1\n",
    "            return obj\n",
    "\n",
    "        # find path of objects leading to the root\n",
    "        path = [obj]\n",
    "        root = self.parents[obj]\n",
    "        while root != path[-1]:\n",
    "            path.append(root)\n",
    "            root = self.parents[root]\n",
    "\n",
    "        # compress the path and return\n",
    "        for ancestor in path:\n",
    "            self.parents[ancestor] = root\n",
    "        return root\n",
    "\n",
    "    def __iter__(self):\n",
    "        \"\"\"Iterate through all items ever found or unioned by this structure.\"\"\"\n",
    "        return iter(self.parents)\n",
    "\n",
    "    def union(self, *objects):\n",
    "        \"\"\"Find the sets containing the objects and merge them all.\"\"\"\n",
    "        roots = [self[x] for x in objects]\n",
    "        heaviest = max([(self.weights[r],r) for r in roots], key=lambda x:x[0])[1]\n",
    "        for r in roots:\n",
    "            if r != heaviest:\n",
    "                self.weights[heaviest] += self.weights[r]\n",
    "                self.parents[r] = heaviest\n",
    "\n",
    "    def get_components(self):\n",
    "        \"\"\"return a list of sets corresponding to the connected\n",
    "        components of the structure.\"\"\"\n",
    "        comp_dict = collections.defaultdict(set)\n",
    "        for elem in iter(self):\n",
    "            comp_dict[self[elem]].add(elem)\n",
    "        comp = list(comp_dict.values())\n",
    "        return comp\n",
    "\n",
    "\n"
   ]
  },
  {
   "cell_type": "code",
   "execution_count": 28,
   "metadata": {
    "scrolled": true
   },
   "outputs": [],
   "source": [
    "# General\n",
    "folder_out = './DATA/Output/'\n",
    "tree_file = './DATA/DATA/RealTree.nwk'\n",
    "tree_str = pyham.utils.get_newick_string(tree_file, type=\"nwk\")\n",
    "perfect_trees = './DATA/DATA/GeneTrees/'\n",
    "\n",
    "# orthoxml default\n",
    "orthoxml_perfect_default = \"./DATA/DATA/hog_alf-bench_g3_60_without_unmerge_without_compl_perfectPO.orthoxml\"\n",
    "orthoxml_OMAPO_default = \"./DATA/DATA/hog_alf-bench_g3_60_without_unmerge_without_compl_OMAPO.orthoxml\"\n",
    "\n",
    "# orthoxml compl\n",
    "#orthoxml_perfect_compl = \"../DATA/hog_alf-bench_g3_60_without_unmerge_perfectPO.orthoxml\"\n",
    "orthoxml_OMAPO_compl = \"./DATA/DATA/hog_alf-bench_g3_60_without_unmerge_perfectOMA.orthoxml\"\n"
   ]
  },
  {
   "cell_type": "code",
   "execution_count": 29,
   "metadata": {
    "scrolled": true
   },
   "outputs": [
    {
     "name": "stderr",
     "output_type": "stream",
     "text": [
      "2019-08-05 10:50:35,017 pyham.ham    INFO     Build taxonomy: completed.\n",
      "2019-08-05 10:50:35,032 pyham.parsers INFO     Species SE001 created. \n",
      "2019-08-05 10:50:35,050 pyham.parsers INFO     Species SE002 created. \n",
      "2019-08-05 10:50:35,064 pyham.parsers INFO     Species SE003 created. \n",
      "2019-08-05 10:50:35,083 pyham.parsers INFO     Species SE004 created. \n",
      "2019-08-05 10:50:35,099 pyham.parsers INFO     Species SE005 created. \n",
      "2019-08-05 10:50:35,116 pyham.parsers INFO     Species SE006 created. \n",
      "2019-08-05 10:50:35,134 pyham.parsers INFO     Species SE007 created. \n",
      "2019-08-05 10:50:35,150 pyham.parsers INFO     Species SE008 created. \n",
      "2019-08-05 10:50:35,167 pyham.parsers INFO     Species SE009 created. \n",
      "2019-08-05 10:50:35,182 pyham.parsers INFO     Species SE010 created. \n",
      "2019-08-05 10:50:35,199 pyham.parsers INFO     Species SE011 created. \n",
      "2019-08-05 10:50:35,215 pyham.parsers INFO     Species SE012 created. \n",
      "2019-08-05 10:50:35,234 pyham.parsers INFO     Species SE013 created. \n",
      "2019-08-05 10:50:35,252 pyham.parsers INFO     Species SE014 created. \n",
      "2019-08-05 10:50:35,267 pyham.parsers INFO     Species SE015 created. \n",
      "2019-08-05 10:50:35,287 pyham.parsers INFO     Species SE016 created. \n",
      "2019-08-05 10:50:35,301 pyham.parsers INFO     Species SE017 created. \n",
      "2019-08-05 10:50:35,318 pyham.parsers INFO     Species SE018 created. \n",
      "2019-08-05 10:50:35,334 pyham.parsers INFO     Species SE019 created. \n",
      "2019-08-05 10:50:35,351 pyham.parsers INFO     Species SE020 created. \n",
      "2019-08-05 10:50:35,365 pyham.parsers INFO     Species SE021 created. \n",
      "2019-08-05 10:50:35,385 pyham.parsers INFO     Species SE022 created. \n",
      "2019-08-05 10:50:35,407 pyham.parsers INFO     Species SE023 created. \n",
      "2019-08-05 10:50:35,423 pyham.parsers INFO     Species SE024 created. \n",
      "2019-08-05 10:50:35,442 pyham.parsers INFO     Species SE025 created. \n",
      "2019-08-05 10:50:35,458 pyham.parsers INFO     Species SE026 created. \n",
      "2019-08-05 10:50:35,473 pyham.parsers INFO     Species SE027 created. \n",
      "2019-08-05 10:50:35,489 pyham.parsers INFO     Species SE028 created. \n",
      "2019-08-05 10:50:35,505 pyham.parsers INFO     Species SE029 created. \n",
      "2019-08-05 10:50:35,523 pyham.parsers INFO     Species SE030 created. \n",
      "2019-08-05 10:50:35,543 pyham.parsers INFO     Species SE031 created. \n",
      "2019-08-05 10:50:35,561 pyham.parsers INFO     Species SE032 created. \n",
      "2019-08-05 10:50:35,579 pyham.parsers INFO     Species SE033 created. \n",
      "2019-08-05 10:50:35,597 pyham.parsers INFO     Species SE034 created. \n",
      "2019-08-05 10:50:35,616 pyham.parsers INFO     Species SE035 created. \n",
      "2019-08-05 10:50:35,633 pyham.parsers INFO     Species SE036 created. \n",
      "2019-08-05 10:50:37,606 pyham.parsers INFO     500 HOGs parsed. \n",
      "2019-08-05 10:50:39,334 pyham.parsers INFO     1000 HOGs parsed. \n",
      "2019-08-05 10:50:39,337 pyham.ham    INFO     Parse Orthoxml: 1001 top level hogs and 34807 extant genes extract.\n",
      "2019-08-05 10:50:39,338 pyham.ham    INFO     Set up Ham analysis: ready to go with 1001 hogs founded within 36 species.\n",
      "2019-08-05 10:50:39,342 pyham.ham    INFO     Build taxonomy: completed.\n",
      "2019-08-05 10:50:39,357 pyham.parsers INFO     Species SE001 created. \n",
      "2019-08-05 10:50:39,375 pyham.parsers INFO     Species SE002 created. \n",
      "2019-08-05 10:50:39,390 pyham.parsers INFO     Species SE003 created. \n",
      "2019-08-05 10:50:39,408 pyham.parsers INFO     Species SE004 created. \n",
      "2019-08-05 10:50:39,423 pyham.parsers INFO     Species SE005 created. \n",
      "2019-08-05 10:50:39,438 pyham.parsers INFO     Species SE006 created. \n",
      "2019-08-05 10:50:39,454 pyham.parsers INFO     Species SE007 created. \n",
      "2019-08-05 10:50:39,469 pyham.parsers INFO     Species SE008 created. \n",
      "2019-08-05 10:50:39,485 pyham.parsers INFO     Species SE009 created. \n",
      "2019-08-05 10:50:39,501 pyham.parsers INFO     Species SE010 created. \n",
      "2019-08-05 10:50:39,518 pyham.parsers INFO     Species SE011 created. \n",
      "2019-08-05 10:50:39,533 pyham.parsers INFO     Species SE012 created. \n",
      "2019-08-05 10:50:39,549 pyham.parsers INFO     Species SE013 created. \n",
      "2019-08-05 10:50:39,565 pyham.parsers INFO     Species SE014 created. \n",
      "2019-08-05 10:50:39,581 pyham.parsers INFO     Species SE015 created. \n",
      "2019-08-05 10:50:39,598 pyham.parsers INFO     Species SE016 created. \n",
      "2019-08-05 10:50:39,614 pyham.parsers INFO     Species SE017 created. \n",
      "2019-08-05 10:50:39,630 pyham.parsers INFO     Species SE018 created. \n",
      "2019-08-05 10:50:39,646 pyham.parsers INFO     Species SE019 created. \n",
      "2019-08-05 10:50:39,664 pyham.parsers INFO     Species SE020 created. \n",
      "2019-08-05 10:50:39,680 pyham.parsers INFO     Species SE021 created. \n",
      "2019-08-05 10:50:39,698 pyham.parsers INFO     Species SE022 created. \n",
      "2019-08-05 10:50:39,718 pyham.parsers INFO     Species SE023 created. \n",
      "2019-08-05 10:50:39,736 pyham.parsers INFO     Species SE024 created. \n",
      "2019-08-05 10:50:39,754 pyham.parsers INFO     Species SE025 created. \n",
      "2019-08-05 10:50:39,773 pyham.parsers INFO     Species SE026 created. \n",
      "2019-08-05 10:50:39,789 pyham.parsers INFO     Species SE027 created. \n",
      "2019-08-05 10:50:39,808 pyham.parsers INFO     Species SE028 created. \n",
      "2019-08-05 10:50:39,826 pyham.parsers INFO     Species SE029 created. \n",
      "2019-08-05 10:50:39,844 pyham.parsers INFO     Species SE030 created. \n",
      "2019-08-05 10:50:39,861 pyham.parsers INFO     Species SE031 created. \n",
      "2019-08-05 10:50:39,880 pyham.parsers INFO     Species SE032 created. \n",
      "2019-08-05 10:50:39,897 pyham.parsers INFO     Species SE033 created. \n",
      "2019-08-05 10:50:39,913 pyham.parsers INFO     Species SE034 created. \n",
      "2019-08-05 10:50:39,930 pyham.parsers INFO     Species SE035 created. \n",
      "2019-08-05 10:50:39,946 pyham.parsers INFO     Species SE036 created. \n",
      "2019-08-05 10:50:41,922 pyham.parsers INFO     500 HOGs parsed. \n",
      "2019-08-05 10:50:43,827 pyham.parsers INFO     1000 HOGs parsed. \n",
      "2019-08-05 10:50:43,875 pyham.ham    INFO     Parse Orthoxml: 1025 top level hogs and 34807 extant genes extract.\n",
      "2019-08-05 10:50:43,876 pyham.ham    INFO     Set up Ham analysis: ready to go with 1025 hogs founded within 36 species.\n"
     ]
    }
   ],
   "source": [
    "# HAM\n",
    "ham_analysis_ppo_def = pyham.Ham(tree_str, orthoxml_perfect_default)\n",
    "ham_analysis_opo_def = pyham.Ham(tree_str, orthoxml_OMAPO_default)\n",
    "\n"
   ]
  },
  {
   "cell_type": "code",
   "execution_count": 30,
   "metadata": {
    "scrolled": true
   },
   "outputs": [
    {
     "name": "stderr",
     "output_type": "stream",
     "text": [
      "2019-08-05 10:50:44,856 pyham.ham    INFO     Build taxonomy: completed.\n",
      "2019-08-05 10:50:44,871 pyham.parsers INFO     Species SE001 created. \n",
      "2019-08-05 10:50:44,888 pyham.parsers INFO     Species SE002 created. \n",
      "2019-08-05 10:50:44,910 pyham.parsers INFO     Species SE003 created. \n",
      "2019-08-05 10:50:44,932 pyham.parsers INFO     Species SE004 created. \n",
      "2019-08-05 10:50:44,951 pyham.parsers INFO     Species SE005 created. \n",
      "2019-08-05 10:50:44,970 pyham.parsers INFO     Species SE006 created. \n",
      "2019-08-05 10:50:44,993 pyham.parsers INFO     Species SE007 created. \n",
      "2019-08-05 10:50:45,010 pyham.parsers INFO     Species SE008 created. \n",
      "2019-08-05 10:50:45,026 pyham.parsers INFO     Species SE009 created. \n",
      "2019-08-05 10:50:45,045 pyham.parsers INFO     Species SE010 created. \n",
      "2019-08-05 10:50:45,066 pyham.parsers INFO     Species SE011 created. \n",
      "2019-08-05 10:50:45,084 pyham.parsers INFO     Species SE012 created. \n",
      "2019-08-05 10:50:45,104 pyham.parsers INFO     Species SE013 created. \n",
      "2019-08-05 10:50:45,130 pyham.parsers INFO     Species SE014 created. \n",
      "2019-08-05 10:50:45,148 pyham.parsers INFO     Species SE015 created. \n",
      "2019-08-05 10:50:45,165 pyham.parsers INFO     Species SE016 created. \n",
      "2019-08-05 10:50:45,184 pyham.parsers INFO     Species SE017 created. \n",
      "2019-08-05 10:50:45,205 pyham.parsers INFO     Species SE018 created. \n",
      "2019-08-05 10:50:45,226 pyham.parsers INFO     Species SE019 created. \n",
      "2019-08-05 10:50:45,245 pyham.parsers INFO     Species SE020 created. \n",
      "2019-08-05 10:50:45,263 pyham.parsers INFO     Species SE021 created. \n",
      "2019-08-05 10:50:45,279 pyham.parsers INFO     Species SE022 created. \n",
      "2019-08-05 10:50:45,300 pyham.parsers INFO     Species SE023 created. \n",
      "2019-08-05 10:50:45,317 pyham.parsers INFO     Species SE024 created. \n",
      "2019-08-05 10:50:45,338 pyham.parsers INFO     Species SE025 created. \n",
      "2019-08-05 10:50:45,359 pyham.parsers INFO     Species SE026 created. \n",
      "2019-08-05 10:50:45,381 pyham.parsers INFO     Species SE027 created. \n",
      "2019-08-05 10:50:45,401 pyham.parsers INFO     Species SE028 created. \n",
      "2019-08-05 10:50:47,788 pyham.parsers INFO     Species SE029 created. \n",
      "2019-08-05 10:50:47,803 pyham.parsers INFO     Species SE030 created. \n",
      "2019-08-05 10:50:47,820 pyham.parsers INFO     Species SE031 created. \n",
      "2019-08-05 10:50:47,838 pyham.parsers INFO     Species SE032 created. \n",
      "2019-08-05 10:50:47,855 pyham.parsers INFO     Species SE033 created. \n",
      "2019-08-05 10:50:47,870 pyham.parsers INFO     Species SE034 created. \n",
      "2019-08-05 10:50:47,887 pyham.parsers INFO     Species SE035 created. \n",
      "2019-08-05 10:50:47,902 pyham.parsers INFO     Species SE036 created. \n",
      "2019-08-05 10:50:49,813 pyham.parsers INFO     500 HOGs parsed. \n",
      "2019-08-05 10:50:51,402 pyham.parsers INFO     1000 HOGs parsed. \n",
      "2019-08-05 10:50:51,440 pyham.ham    INFO     Parse Orthoxml: 1025 top level hogs and 34807 extant genes extract.\n",
      "2019-08-05 10:50:51,441 pyham.ham    INFO     Set up Ham analysis: ready to go with 1025 hogs founded within 36 species.\n"
     ]
    }
   ],
   "source": [
    "#ham_analysis_ppo_compl = pyham.Ham(tree_str, orthoxml_perfect_compl)\n",
    "ham_analysis_opo_comp = pyham.Ham(tree_str, orthoxml_OMAPO_compl)"
   ]
  },
  {
   "cell_type": "markdown",
   "metadata": {},
   "source": [
    "## Compare a hog run with true gene trees"
   ]
  },
  {
   "cell_type": "code",
   "execution_count": 5,
   "metadata": {
    "code_folding": [
     0,
     22,
     69,
     91,
     116,
     129,
     151,
     195
    ]
   },
   "outputs": [],
   "source": [
    "def visit_gen_tree(hog, elem):\n",
    "        elem = elem.add_child(name=hog.genome.name)    \n",
    "        process_child = []   \n",
    "        \n",
    "        if hog.duplications:\n",
    "            for d in hog.duplications:\n",
    "                para = elem.add_child(name=\"\")\n",
    "                for h in d.children:\n",
    "                    if isinstance(h, pyham.abstractgene.Gene):\n",
    "                        para.add_child(name=\"{}\".format(h.prot_id))\n",
    "                    else:\n",
    "                        visit_gen_tree(h,para) \n",
    "                    process_child.append(h)\n",
    "            \n",
    "        for hh in set(hog.children) - set(process_child):\n",
    "            if isinstance(hh, pyham.abstractgene.Gene):\n",
    "                elem.add_child(name=\"{}\".format(hh.prot_id))\n",
    "            else:\n",
    "                visit_gen_tree(hh,elem) \n",
    "                    \n",
    "        return elem\n",
    "    \n",
    "def get_true_trees():\n",
    "    \n",
    "    \n",
    "    \n",
    "    # get all perfect tree\n",
    "    tree_collection = []\n",
    "    for filename in os.listdir(perfect_trees):\n",
    "        fn_p = os.path.join(perfect_trees, filename)\n",
    "        \n",
    "        \"\"\"\n",
    "        \n",
    "        t = Tree(fn_p, format=0)\n",
    "\n",
    "        for leaf in t:\n",
    "            g = int(leaf.name.split('/')[1])\n",
    "            sp = leaf.name.split('/')[0]\n",
    "            leaf.name = \"G{}_{}\".format(g,sp)\n",
    "            \n",
    "        print(t.write())\n",
    "        \n",
    "        \"\"\"\n",
    "        \n",
    "        # collapse the tree\n",
    "        tcol = dendropy.Tree.get(path=fn_p, schema='newick', extract_comment_metadata=True)\n",
    "\n",
    "        \n",
    "\n",
    "        for e in tcol.internal_edges():\n",
    "            if e.tail_node is not None:\n",
    "                if (str(e.head_node.annotations['D']) == str(\"D='Y'\")) and (str(e.tail_node.annotations['D']) == str(\"D='Y'\")):\n",
    "                    e.collapse()\n",
    "        \n",
    "        t_str = tcol.as_string(\"newick\")\n",
    "        \n",
    "        t = Tree(t_str, format=0)\n",
    "        \n",
    "        for leaf in t:\n",
    "            g = int(str(leaf.name).split('/')[1].strip(\"0\").strip(\"'\"))\n",
    "            sp = leaf.name.split('/')[0].strip(\"'\")\n",
    "            leaf.name = \"G{}_{}\".format(g,sp)\n",
    "        \n",
    "        #print(t.write())\n",
    "        \n",
    "        tree_collection.append({'tree':t, 'hogs':set(), 'completeness':None, 'RF':None, 'hog_tree':None, 'treefile': filename })\n",
    "    \n",
    "    return tree_collection\n",
    "\n",
    "def get_related_hogs(tree_collection, ham_analysis):\n",
    "    # get all related hogs\n",
    "    for tree_item in tree_collection:\n",
    "        \n",
    "        cpt = 0\n",
    "        cpt_all = 0\n",
    "        for leaf in tree_item['tree']:\n",
    "            \n",
    "            cpt_all +=1\n",
    "\n",
    "            try: \n",
    "                tn = str(leaf.name)\n",
    "                g = ham_analysis.get_genes_by_external_id(tn)\n",
    "                tree_item['hogs'].add(g[0].get_top_level_hog())\n",
    "                cpt +=1\n",
    "\n",
    "            except KeyError:\n",
    "                print(\"Gene {} have not been founded as external Xref. Either gene not exist or genome not there\".format(leaf.name))\n",
    "                continue\n",
    "        \n",
    "        tree_item['completeness'] = cpt*100/cpt_all\n",
    "                      \n",
    "def cluster_related_tree_and_hogs(tree_collection):\n",
    "    \n",
    "    # classify splitted and merged hogs, completed etc. !\n",
    "    connectedComponents = UnionFind()\n",
    "\n",
    "    for tree_item in tree_collection:\n",
    "        for h in tree_item['hogs']:\n",
    "            connectedComponents.union(tree_item['tree'], h)\n",
    "\n",
    "    CCs = connectedComponents.get_components()\n",
    "    \n",
    "    processed_CCs = []\n",
    "\n",
    "    for CC in CCs:\n",
    "        CC_proc = {'trees':[], 'hogs':[]}\n",
    "        for e in CC:\n",
    "            if isinstance(e, pyham.AbstractGene):\n",
    "                CC_proc['hogs'].append(e)\n",
    "            else:\n",
    "                CC_proc['trees'].append(e)\n",
    "\n",
    "        processed_CCs.append(CC_proc)\n",
    "        \n",
    "    return processed_CCs\n",
    "\n",
    "def count_size(CCs):\n",
    "    \n",
    "    # counts for HOGs size\n",
    "    from collections import defaultdict\n",
    "    hog_size = defaultdict(lambda: 0)\n",
    "    hog_size_list = []\n",
    "\n",
    "    for c in CCs:\n",
    "        hog_size[len(c['hogs'])] += 1\n",
    "        hog_size_list.append(len(c['hogs']))\n",
    "        \n",
    "    return hog_size, hog_size_list\n",
    "\n",
    "def hist_size(hog_size_list, ham_analysis, size_to_remove_treshold= 10000000, xabs = 'Number of HOGs per gene tree' ):\n",
    "\n",
    "    # removed the too big hog for plotting purposes\n",
    "    size_to_remove_treshold =  size_to_remove_treshold\n",
    "    rectified_hs = list(filter(lambda x: x < size_to_remove_treshold, list(hog_size_list)))\n",
    "    \n",
    "    import collections\n",
    "    print(collections.Counter(rectified_hs))\n",
    "    \n",
    "\n",
    "    # plot hist of HOG size versus occurence\n",
    "    %matplotlib inline\n",
    "    import matplotlib.pyplot as plt\n",
    "\n",
    "    plt.clf()\n",
    "    plt.close()\n",
    "    n, bins, patches = plt.hist(rectified_hs, bins=20)\n",
    "    plt.xlabel(xabs)\n",
    "    plt.ylabel('Occurence')\n",
    "    plt.grid(True)\n",
    "    plt.show()\n",
    "    \n",
    "def compute_RF_tree_hog(tree_collection):\n",
    "    \n",
    "    def visit(hog, elem):\n",
    "        elem = elem.add_child(name=hog.genome.name)    \n",
    "        process_child = []   \n",
    "        \n",
    "        if hog.duplications:\n",
    "            for d in hog.duplications:\n",
    "                para = elem.add_child(name=\"\")\n",
    "                for h in d.children:\n",
    "                    if isinstance(h, pyham.abstractgene.Gene):\n",
    "                        para.add_child(name=\"{}\".format(h.prot_id))\n",
    "                    else:\n",
    "                        visit(h,para) \n",
    "                    process_child.append(h)\n",
    "            \n",
    "        for hh in set(hog.children) - set(process_child):\n",
    "            if isinstance(hh, pyham.abstractgene.Gene):\n",
    "                elem.add_child(name=\"{}\".format(hh.prot_id))\n",
    "            else:\n",
    "                visit(hh,elem) \n",
    "                    \n",
    "        return elem\n",
    "    \n",
    "    cpt = 0\n",
    "    for c in tree_collection:\n",
    "        \n",
    "        cpt +=1\n",
    "        \n",
    "        if cpt % 50 == 0:\n",
    "            print(\"{}/{}\".format(cpt, len(tree_collection)))\n",
    "            \n",
    "        if len(list(c['hogs'])) == 1:\n",
    "                        \n",
    "            t = visit(list(c['hogs'])[0], Tree()) \n",
    "            t2 = c['tree']\n",
    "            RF = t.robinson_foulds(t2) #, expand_polytomies=True, polytomy_size_limit=100,  skip_large_polytomies=False)[0]\n",
    "            \n",
    "            if RF[1] < 0 :\n",
    "                print('ERROF RF')\n",
    "            \n",
    "            c['RF'] = RF[0]\n",
    "            c['hog_tree'] = t\n",
    "                      \n",
    "def compare(ham_analysis):\n",
    "\n",
    "    # get the true tree with correct leaves names\n",
    "    tree_collection = get_true_trees() # tree collection map each tree with its related hogs and completeness\n",
    "\n",
    "    # search for related hogs\n",
    "    get_related_hogs(tree_collection, ham_analysis)\n",
    "    \n",
    "    # get CC of related trees & hogs\n",
    "    CCs = cluster_related_tree_and_hogs(tree_collection) # put together the CC of tree and hogs where connection are membership\n",
    "    \n",
    "    solo_tree = []\n",
    "    multi_tree = []\n",
    "    for c in CCs:\n",
    "        if len(c['trees']) > 1:\n",
    "            multi_tree.append(c)\n",
    "        else:\n",
    "            solo_tree.append(c)\n",
    "            \n",
    "    compute_RF_tree_hog(tree_collection)\n",
    "   \n",
    "    return tree_collection, CCs, solo_tree, multi_tree\n"
   ]
  },
  {
   "cell_type": "code",
   "execution_count": 31,
   "metadata": {},
   "outputs": [
    {
     "name": "stdout",
     "output_type": "stream",
     "text": [
      "{'protId': 'G1083_SE025', 'id': '23748'}\n"
     ]
    }
   ],
   "source": [
    "g = ham_analysis_opo_comp.get_list_extant_genes()[0]\n",
    "print(g.get_dict_xref())"
   ]
  },
  {
   "cell_type": "code",
   "execution_count": 13,
   "metadata": {
    "code_folding": [],
    "scrolled": true
   },
   "outputs": [
    {
     "name": "stdout",
     "output_type": "stream",
     "text": [
      "Gene G168_SE025 have not been founded as external Xref. Either gene not exist or genome not there\n",
      "50/993\n",
      "100/993\n",
      "150/993\n",
      "200/993\n",
      "250/993\n",
      "300/993\n",
      "350/993\n",
      "400/993\n",
      "450/993\n",
      "500/993\n",
      "550/993\n",
      "600/993\n",
      "650/993\n",
      "700/993\n",
      "750/993\n",
      "800/993\n",
      "850/993\n",
      "900/993\n",
      "950/993\n",
      "Gene G168_SE025 have not been founded as external Xref. Either gene not exist or genome not there\n",
      "50/993\n",
      "100/993\n",
      "150/993\n",
      "200/993\n",
      "250/993\n",
      "300/993\n",
      "350/993\n",
      "400/993\n",
      "450/993\n",
      "500/993\n",
      "550/993\n",
      "600/993\n",
      "650/993\n",
      "700/993\n",
      "750/993\n",
      "800/993\n",
      "850/993\n",
      "900/993\n",
      "950/993\n"
     ]
    }
   ],
   "source": [
    "## run comparaison for default\n",
    "tree_collection_p, CCs_p, CCmono_p, CCmulti_p = compare(ham_analysis_ppo_def)\n",
    "tree_collection_o, CCs_o, CCmono_o, CCmulti_o = compare(ham_analysis_opo_def)\n",
    "\n",
    "#tree_collection_p_comp, CCs_p_comp, CCmono_p_comp, CCmulti_p_comp = compare(ham_analysis_ppo_compl)\n",
    "#tree_collection_o_comp, CCs_o_comp, CCmono_o_comp, CCmulti_o_comp = compare(ham_analysis_opo_comp)\n"
   ]
  },
  {
   "cell_type": "code",
   "execution_count": 32,
   "metadata": {},
   "outputs": [
    {
     "name": "stdout",
     "output_type": "stream",
     "text": [
      "Gene G168_SE025 have not been founded as external Xref. Either gene not exist or genome not there\n",
      "50/993\n",
      "100/993\n",
      "150/993\n",
      "200/993\n",
      "250/993\n",
      "300/993\n",
      "350/993\n",
      "400/993\n",
      "450/993\n",
      "500/993\n",
      "550/993\n",
      "600/993\n",
      "650/993\n",
      "700/993\n",
      "750/993\n",
      "800/993\n",
      "850/993\n",
      "900/993\n",
      "950/993\n"
     ]
    }
   ],
   "source": [
    "tree_collection_o_comp, CCs_o_comp, CCmono_o_comp, CCmulti_o_comp = compare(ham_analysis_opo_comp)"
   ]
  },
  {
   "cell_type": "code",
   "execution_count": 10,
   "metadata": {
    "code_folding": [],
    "scrolled": true
   },
   "outputs": [
    {
     "ename": "AttributeError",
     "evalue": "'Gene' object has no attribute 'hog_id'",
     "output_type": "error",
     "traceback": [
      "\u001b[0;31m---------------------------------------------------------------------------\u001b[0m",
      "\u001b[0;31mAttributeError\u001b[0m                            Traceback (most recent call last)",
      "\u001b[0;32m<ipython-input-10-0f17c9a8ef7d>\u001b[0m in \u001b[0;36m<module>\u001b[0;34m()\u001b[0m\n\u001b[1;32m      6\u001b[0m \u001b[0;34m\u001b[0m\u001b[0m\n\u001b[1;32m      7\u001b[0m \u001b[0;32mfor\u001b[0m \u001b[0mx\u001b[0m \u001b[0;32min\u001b[0m \u001b[0mCCmono_o\u001b[0m\u001b[0;34m:\u001b[0m\u001b[0;34m\u001b[0m\u001b[0m\n\u001b[0;32m----> 8\u001b[0;31m     \u001b[0mc\u001b[0m \u001b[0;34m=\u001b[0m \u001b[0mset\u001b[0m\u001b[0;34m(\u001b[0m\u001b[0;34m[\u001b[0m\u001b[0my\u001b[0m\u001b[0;34m.\u001b[0m\u001b[0mhog_id\u001b[0m \u001b[0;32mfor\u001b[0m \u001b[0my\u001b[0m \u001b[0;32min\u001b[0m \u001b[0mx\u001b[0m\u001b[0;34m[\u001b[0m\u001b[0;34m'hogs'\u001b[0m\u001b[0;34m]\u001b[0m\u001b[0;34m]\u001b[0m\u001b[0;34m)\u001b[0m\u001b[0;34m\u001b[0m\u001b[0m\n\u001b[0m\u001b[1;32m      9\u001b[0m \u001b[0;34m\u001b[0m\u001b[0m\n\u001b[1;32m     10\u001b[0m     \u001b[0;32mif\u001b[0m \u001b[0mlen\u001b[0m\u001b[0;34m(\u001b[0m\u001b[0mc\u001b[0m\u001b[0;34m)\u001b[0m \u001b[0;34m>\u001b[0m \u001b[0;36m1\u001b[0m\u001b[0;34m:\u001b[0m\u001b[0;34m\u001b[0m\u001b[0m\n",
      "\u001b[0;32m<ipython-input-10-0f17c9a8ef7d>\u001b[0m in \u001b[0;36m<listcomp>\u001b[0;34m(.0)\u001b[0m\n\u001b[1;32m      6\u001b[0m \u001b[0;34m\u001b[0m\u001b[0m\n\u001b[1;32m      7\u001b[0m \u001b[0;32mfor\u001b[0m \u001b[0mx\u001b[0m \u001b[0;32min\u001b[0m \u001b[0mCCmono_o\u001b[0m\u001b[0;34m:\u001b[0m\u001b[0;34m\u001b[0m\u001b[0m\n\u001b[0;32m----> 8\u001b[0;31m     \u001b[0mc\u001b[0m \u001b[0;34m=\u001b[0m \u001b[0mset\u001b[0m\u001b[0;34m(\u001b[0m\u001b[0;34m[\u001b[0m\u001b[0my\u001b[0m\u001b[0;34m.\u001b[0m\u001b[0mhog_id\u001b[0m \u001b[0;32mfor\u001b[0m \u001b[0my\u001b[0m \u001b[0;32min\u001b[0m \u001b[0mx\u001b[0m\u001b[0;34m[\u001b[0m\u001b[0;34m'hogs'\u001b[0m\u001b[0;34m]\u001b[0m\u001b[0;34m]\u001b[0m\u001b[0;34m)\u001b[0m\u001b[0;34m\u001b[0m\u001b[0m\n\u001b[0m\u001b[1;32m      9\u001b[0m \u001b[0;34m\u001b[0m\u001b[0m\n\u001b[1;32m     10\u001b[0m     \u001b[0;32mif\u001b[0m \u001b[0mlen\u001b[0m\u001b[0;34m(\u001b[0m\u001b[0mc\u001b[0m\u001b[0;34m)\u001b[0m \u001b[0;34m>\u001b[0m \u001b[0;36m1\u001b[0m\u001b[0;34m:\u001b[0m\u001b[0;34m\u001b[0m\u001b[0m\n",
      "\u001b[0;31mAttributeError\u001b[0m: 'Gene' object has no attribute 'hog_id'"
     ]
    }
   ],
   "source": [
    "# for perfect\n",
    "\n",
    "onetoone = set()\n",
    "onetomany = set()\n",
    "manytomany = set()\n",
    "\n",
    "for x in CCmono_o:\n",
    "    c = set([y.hog_id for y in x['hogs']])\n",
    "    \n",
    "    if len(c) > 1:\n",
    "        onetomany = onetomany.union(c)\n",
    "    else:\n",
    "        onetoone = onetoone.union(c)\n",
    "\n",
    "print(len(onetoone))\n",
    "print(len(onetomany))\n",
    "\n",
    "\n",
    "for x in CCmulti_o:\n",
    "    c = set([y.hog_id for y in x['hogs']])\n",
    "    manytomany = manytomany.union(c)\n",
    "        \n",
    "print(len(manytomany))\n",
    "\n",
    "print(len(onetoone)+len(onetomany)+len(manytomany))\n",
    "\n",
    "        \n",
    "        \n",
    "        \n",
    "\n",
    "\n",
    "\n",
    "\n",
    "     \n",
    "        \n",
    "from collections import defaultdict\n",
    "\n",
    "d = defaultdict(list)\n",
    "\n",
    "for CC in tree_collection_o:\n",
    "\n",
    "    if CC['RF'] is not None:\n",
    "        d[CC['RF']].append(1)\n",
    "\n",
    "#for k,v in d.items():\n",
    "\n",
    "    #print(k,len(v))\n",
    "    \n",
    "\n",
    "#print(sum(len(x) for x in d.values()))\n",
    "    \n",
    "  \n",
    "    \n",
    "\n",
    "    \n",
    "    \n",
    "\n"
   ]
  },
  {
   "cell_type": "code",
   "execution_count": null,
   "metadata": {},
   "outputs": [],
   "source": [
    "\n",
    "    \n",
    "mono = 0\n",
    "pair = 0\n",
    "for x in CCmono_o:\n",
    "    if len(x['hogs']) == 1:\n",
    "        mono+=1\n",
    "    elif len(x['hogs']) == 2:\n",
    "        pair+=1\n",
    "        \n",
    "\n",
    "\n",
    "#print(mono,pair)\n",
    "        \n",
    "    \n",
    "    \n",
    "rf0 = 0\n",
    "rfabove = 0 \n",
    "for CC in tree_collection_o:\n",
    "    if CC['RF'] is not None:\n",
    "        if CC['RF'] == 0:\n",
    "            rf0+=1\n",
    "        else:\n",
    "            rfabove+=1\n",
    "            \n",
    "print(rf0,rfabove)\n",
    "\n",
    "\n",
    "n = [0, 8, 0, 0, 0, 0, 0, 0, 21, 0, 0, 0, 16, 4, 0, 0, 43, 0, 0, 20, 12, 16, 0, 0, 0, 0, 0, 14, 20, 0, 15, 20, 0, 0, 16, 49, 4, 0, 0, 48, 0, 0, 0, 20, 0, 0, 0, 0, 8, 0, 0, 0, 8, 0, 0, 0, 0, 0, 0, 0, 0, 21, 40, 0, 0, 0, 8, 0, 0, 0, 0, 73, 0, 5, 68, 0, 0, 0, 17, 0, 0, 0, 27, 0, 0, 12, 18, 21, 0, 0, 0, 0, 13, 0, 0, 0, 0, 52, 14, 0, 0, 0, 20, 0, 0, 0, 0, 8, 0, 0, 20, 0, 0, 0, 0, 0, 4, 0, 0, 46, 0, 0, 0, 0, 0, 17, 0, 0, 12, 0, 117, 0, 0, 0, 0, 0, 0, 0, 20, 36, 4, 0, 0, 0, 31, 0, 0, 0, 0, 24, 0, 2, 0, 0, 0, 0, 0, 0, 0, 8, 0, 7, 0, 2, 0, 0, 0, 0, 0, 0, 0, 16, 0, 0, 2, 0, 0, 19, 0, 17, 0, 9, 0, 5, 0, 0, 0, 6, 0, 0, 32, 0, 0, 5, 15, 36, 0, 0, 48, 0, 0, 0, 0, 0, 39, 0, 0, 0, 0, 0, 0, 0, 0, 0, 0, 0, 0, 0, 25, 0, 12, 20, 0, 6, 0, 0, 0, 0, 10, 0, 0, 4, 29, 0, 12, 0, 0, 0, 0, 0, 0, 0, 4, 0, 0, 0, 0, 0, 29, 0, 12, 0, 4, 60, 0, 0, 2, 0, 0, 16, 0, 0, 0, 0, 0, 0, 24, 0, 4, 16, 22, 16, 0, 28, 4, 8, 4, 0, 0, 0, 4, 0, 0, 24, 0, 0, 0, 25, 4, 16, 0, 0, 0, 0, 4, 0, 0, 0, 0, 0, 0, 4, 0, 0, 0, 36, 4, 0, 28, 0, 12, 46, 24, 0, 24, 8, 0, 18, 4, 0, 0, 0, 29, 0, 0, 0, 0, 4, 4, 0, 16, 0, 0, 68, 0, 0, 4, 0, 12, 0, 0, 0, 4, 0, 0, 0, 0, 0, 8, 0, 0, 36, 0, 0, 0, 0, 63, 0, 25, 0, 0, 0, 0, 4, 0, 0, 16, 0, 0, 14, 0, 14, 51, 4, 4, 0, 4, 0, 0, 0, 32, 28, 0, 28, 0, 0, 17, 0, 21, 0, 12, 0, 0, 0, 4, 4, 0, 0, 4, 4, 0, 0, 4, 0, 0, 0, 8, 20, 0, 21, 17, 0, 0, 0, 0, 0, 12, 28, 0, 0, 0, 16, 0, 0, 4, 16, 14, 0, 20, 48, 0, 0, 0, 4, 0, 26, 0, 0, 0, 4, 0, 4, 0, 0, 8, 0, 0, 0, 0, 0, 58, 12, 5, 0, 0, 0, 46, 0, 12, 0, 0, 0, 0, 24, 56, 0, 0, 4, 0, 12, 0, 0, 0, 32, 0, 0, 8, 0, 0, 0, 12, 4, 0, 0, 25, 39, 0, 4, 0, 0, 0, 0, 0, 0, 0, 0, 4, 0, 0, 0, 4, 0, 0, 24, 18, 0, 0, 0, 0, 0, 0, 25, 0, 0, 0, 51, 22, 0, 0, 0, 0, 4, 0, 70, 0, 0, 0, 0, 0, 0, 35, 4, 0, 4, 0, 0, 0, 0, 0, 0, 4, 0, 0, 0, 0, 0, 0, 16, 0, 4, 0, 0, 0, 0, 0, 4, 0, 0, 0, 12, 0, 0, 4, 0, 4, 4, 0, 0, 0, 10, 0, 0, 4, 44, 0, 0, 0, 0, 0, 0, 0, 4, 0, 0, 0, 18, 0, 0, 0, 0, 0, 0, 0, 0, 0, 0, 15, 0, 0, 4, 0, 0, 0, 0, 0, 0, 0, 48, 4, 0, 0, 0, 0, 5, 8, 0, 0, 4, 0, 0, 4, 12, 0, 0, 0, 0, 28, 0, 48, 0, 19, 4, 0, 0, 0, 0, 0, 0, 0, 0, 0, 0, 0, 0, 0, 0, 0, 0, 16, 0, 0, 0, 0, 0, 4, 0, 0, 0, 0, 4, 0, 0, 0, 0, 0, 12, 0, 0, 0, 0, 0, 0, 4, 0, 4, 50, 48, 0, 8, 4, 0, 0, 0, 4, 0, 14, 0, 0, 12, 0, 0, 0, 0, 0, 0, 8, 4, 0, 12, 0, 18, 0, 0, 0, 0, 4, 0, 0, 0, 0, 8, 0, 0, 0, 0, 0, 12, 0, 0, 0, 0, 8, 0, 0, 20, 0, 0, 0, 0, 0, 0, 0, 0, 0, 14, 12, 0, 0, 8, 4, 4, 4, 0, 4, 0, 0, 16, 19, 0, 0, 0, 0, 0, 0, 0, 4, 0, 0, 0, 4, 0, 0, 0, 4, 43, 12, 0, 0, 0, 0, 0, 0, 0, 0, 36, 4, 0, 12, 12, 0, 0, 0, 55, 4, 0, 14, 21, 8, 0, 0, 0, 0, 4, 0, 0, 0, 0, 0, 12, 0, 44, 0, 0, 8, 0, 0, 0, 4, 0, 0, 0, 4, 0, 0, 0, 0, 0, 0, 0, 0, 0, 0, 0, 40, 0, 4, 0, 0, 0, 0, 12, 24, 0, 0, 0, 14, 4, 0, 0, 0, 56, 0, 12, 0, 8, 48, 4, 17, 16, 46, 0, 0, 16, 0, 0, 32, 0, 0, 0, 0, 8, 0, 0, 4, 14, 0, 12, 8, 12, 0, 0, 0, 0, 0, 4, 20, 0, 0, 0, 0, 0, 0, 0, 0, 0, 0, 0, 0, 0, 0, 0, 0, 0, 0, 0, 0, 24, 0, 0, 0, 0, 20, 4, 0, 60, 0, 4, 0, 0, 0, 16, 0, 64, 28, 4, 4, 0, 10, 0, 68, 8, 0, 0, 52, 0, 37, 0, 0, 4, 27, 12, 0, 0, 4, 36, 28, 6, 15, 4, 0, 0, 0, 0, 0, 0, 0, 0] \n",
    "\n",
    "b = list(filter(lambda x:  x ==0,n))\n",
    "        \n",
    "    \n",
    "print(len(n), len(b))"
   ]
  },
  {
   "cell_type": "markdown",
   "metadata": {},
   "source": [
    "### Compare default gethogs between perfect PO and OMA PO\n"
   ]
  },
  {
   "cell_type": "code",
   "execution_count": 8,
   "metadata": {
    "cell_style": "center",
    "code_folding": []
   },
   "outputs": [],
   "source": [
    "def _plot_RF(ham_analysis, treecol, CCs, CCmono, CCmulti):\n",
    "    \n",
    "    # Analyse comparaison\n",
    "    print(\"There is {} trees that are composed of one or several hogs and {} trees that shared one or several hogs\".format(len(CCmono), len(CCmulti)))\n",
    "\n",
    "    # only for single tree CC\n",
    "    hog_size, hog_size_list = count_size(CCmono)\n",
    "    hist_size(hog_size_list, ham_analysis)\n",
    "    print(\"Range of the number of hogs per gene trees {} \".format(sorted(list(hog_size))))\n",
    "\n",
    "    # RF but only for 1:1 tree/hog pair\n",
    "\n",
    "    nbrRF = 0\n",
    "    nbr1to1 = 0\n",
    "    RF_list = []\n",
    "\n",
    "    for CC in treecol:\n",
    "        \n",
    "        if CC['RF'] is not None:\n",
    "            nbrRF += 1\n",
    "            RF_list.append(CC['RF'])\n",
    "        \n",
    "        if len(list(CC['hogs'])) == 1:\n",
    "            nbr1to1+=1\n",
    "            \n",
    "\n",
    "    hist_size(RF_list, ham_analysis, xabs = 'RF')\n",
    "    print(\"{} 1:1 tree with / {} 1:1 tree total / {} trees total  \".format(nbrRF, nbr1to1, len(treecol)))\n"
   ]
  },
  {
   "cell_type": "code",
   "execution_count": 14,
   "metadata": {
    "cell_style": "split"
   },
   "outputs": [
    {
     "name": "stdout",
     "output_type": "stream",
     "text": [
      "There is 989 trees that are composed of one or several hogs and 2 trees that shared one or several hogs\n",
      "Counter({1: 981, 2: 8})\n"
     ]
    },
    {
     "data": {
      "image/png": "[encoded data removed]",
      "text/plain": [
       "<Figure size 432x288 with 1 Axes>"
      ]
     },
     "metadata": {
      "needs_background": "light"
     },
     "output_type": "display_data"
    },
    {
     "name": "stdout",
     "output_type": "stream",
     "text": [
      "Range of the number of hogs per gene trees [1, 2] \n",
      "Counter({0: 983})\n"
     ]
    },
    {
     "data": {
      "image/png": "[encoded data removed]",
      "text/plain": [
       "<Figure size 432x288 with 1 Axes>"
      ]
     },
     "metadata": {
      "needs_background": "light"
     },
     "output_type": "display_data"
    },
    {
     "name": "stdout",
     "output_type": "stream",
     "text": [
      "983 1:1 tree with / 983 1:1 tree total / 993 trees total  \n"
     ]
    }
   ],
   "source": [
    "_plot_RF(ham_analysis_ppo_def, tree_collection_p, CCs_p, CCmono_p, CCmulti_p)    \n"
   ]
  },
  {
   "cell_type": "code",
   "execution_count": 15,
   "metadata": {
    "cell_style": "split",
    "scrolled": false
   },
   "outputs": [
    {
     "name": "stdout",
     "output_type": "stream",
     "text": [
      "There is 989 trees that are composed of one or several hogs and 2 trees that shared one or several hogs\n",
      "Counter({1: 945, 2: 34, 3: 5, 5: 2, 19: 1, 36: 1, 9: 1})\n"
     ]
    },
    {
     "data": {
      "image/png": "[encoded data removed]",
      "text/plain": [
       "<Figure size 432x288 with 1 Axes>"
      ]
     },
     "metadata": {
      "needs_background": "light"
     },
     "output_type": "display_data"
    },
    {
     "name": "stdout",
     "output_type": "stream",
     "text": [
      "Range of the number of hogs per gene trees [1, 2, 3, 5, 9, 19, 36] \n",
      "Counter({0: 642, 4: 86, 12: 30, 8: 24, 16: 18, 20: 13, 14: 10, 24: 9, 28: 8, 48: 7, 17: 6, 21: 6, 36: 6, 5: 5, 18: 5, 25: 5, 2: 4, 15: 4, 32: 4, 46: 4, 6: 3, 10: 3, 19: 3, 29: 3, 68: 3, 22: 2, 27: 2, 39: 2, 40: 2, 43: 2, 44: 2, 51: 2, 52: 2, 56: 2, 60: 2, 7: 1, 9: 1, 13: 1, 26: 1, 31: 1, 35: 1, 37: 1, 49: 1, 50: 1, 55: 1, 58: 1, 63: 1, 64: 1, 70: 1, 73: 1, 117: 1})\n"
     ]
    },
    {
     "data": {
      "image/png": "[encoded data removed]",
      "text/plain": [
       "<Figure size 432x288 with 1 Axes>"
      ]
     },
     "metadata": {
      "needs_background": "light"
     },
     "output_type": "display_data"
    },
    {
     "name": "stdout",
     "output_type": "stream",
     "text": [
      "947 1:1 tree with / 947 1:1 tree total / 993 trees total  \n"
     ]
    }
   ],
   "source": [
    "_plot_RF(ham_analysis_opo_def, tree_collection_o, CCs_o, CCmono_o, CCmulti_o)    \n"
   ]
  },
  {
   "cell_type": "code",
   "execution_count": 18,
   "metadata": {},
   "outputs": [
    {
     "name": "stdout",
     "output_type": "stream",
     "text": [
      "5445\n",
      "17.852459016393443\n"
     ]
    }
   ],
   "source": [
    "h = {0: 642, 4: 86, 12: 30, 8: 24, 16: 18, 20: 13, 14: 10, 24: 9, 28: 8, 48: 7, 17: 6, 21: 6, 36: 6, 5: 5, 18: 5, 25: 5, 2: 4, 15: 4, 32: 4, 46: 4, 6: 3, 10: 3, 19: 3, 29: 3, 68: 3, 22: 2, 27: 2, 39: 2, 40: 2, 43: 2, 44: 2, 51: 2, 52: 2, 56: 2, 60: 2, 7: 1, 9: 1, 13: 1, 26: 1, 31: 1, 35: 1, 37: 1, 49: 1, 50: 1, 55: 1, 58: 1, 63: 1, 64: 1, 70: 1, 73: 1, 117: 1} \n",
    "\n",
    "cpt = 0\n",
    "\n",
    "for rf,n in h.items():\n",
    "    cpt += (rf * n)\n",
    "    \n",
    "print(cpt)\n",
    "\n",
    "\n",
    "print(cpt/(947-642))\n"
   ]
  },
  {
   "cell_type": "code",
   "execution_count": 22,
   "metadata": {
    "cell_style": "split"
   },
   "outputs": [
    {
     "ename": "NameError",
     "evalue": "name 'ham_analysis_ppo_compl' is not defined",
     "output_type": "error",
     "traceback": [
      "\u001b[0;31m---------------------------------------------------------------------------\u001b[0m",
      "\u001b[0;31mNameError\u001b[0m                                 Traceback (most recent call last)",
      "\u001b[0;32m<ipython-input-22-34ff1041e178>\u001b[0m in \u001b[0;36m<module>\u001b[0;34m()\u001b[0m\n\u001b[0;32m----> 1\u001b[0;31m \u001b[0m_plot_RF\u001b[0m\u001b[0;34m(\u001b[0m\u001b[0mham_analysis_ppo_compl\u001b[0m\u001b[0;34m,\u001b[0m \u001b[0mtree_collection_p_comp\u001b[0m\u001b[0;34m,\u001b[0m \u001b[0mCCs_p_comp\u001b[0m\u001b[0;34m,\u001b[0m \u001b[0mCCmono_p_comp\u001b[0m\u001b[0;34m,\u001b[0m \u001b[0mCCmulti_p_comp\u001b[0m\u001b[0;34m)\u001b[0m\u001b[0;34m\u001b[0m\u001b[0m\n\u001b[0m",
      "\u001b[0;31mNameError\u001b[0m: name 'ham_analysis_ppo_compl' is not defined"
     ]
    }
   ],
   "source": [
    "_plot_RF(ham_analysis_ppo_compl, tree_collection_p_comp, CCs_p_comp, CCmono_p_comp, CCmulti_p_comp)    \n"
   ]
  },
  {
   "cell_type": "code",
   "execution_count": 33,
   "metadata": {
    "cell_style": "split"
   },
   "outputs": [
    {
     "name": "stdout",
     "output_type": "stream",
     "text": [
      "There is 989 trees that are composed of one or several hogs and 2 trees that shared one or several hogs\n",
      "Counter({1: 945, 2: 34, 3: 5, 5: 2, 19: 1, 36: 1, 9: 1})\n"
     ]
    },
    {
     "data": {
      "image/png": "[encoded data removed]",
      "text/plain": [
       "<Figure size 432x288 with 1 Axes>"
      ]
     },
     "metadata": {
      "needs_background": "light"
     },
     "output_type": "display_data"
    },
    {
     "name": "stdout",
     "output_type": "stream",
     "text": [
      "Range of the number of hogs per gene trees [1, 2, 3, 5, 9, 19, 36] \n",
      "Counter({0: 642, 4: 86, 12: 31, 8: 25, 16: 20, 20: 14, 14: 9, 24: 9, 28: 9, 48: 7, 17: 6, 36: 6, 5: 5, 18: 5, 21: 5, 25: 5, 32: 5, 2: 4, 40: 4, 46: 4, 6: 3, 10: 3, 22: 3, 44: 3, 52: 3, 68: 3, 15: 2, 19: 2, 29: 2, 37: 2, 56: 2, 60: 2, 9: 1, 13: 1, 26: 1, 27: 1, 30: 1, 43: 1, 49: 1, 50: 1, 51: 1, 55: 1, 58: 1, 63: 1, 64: 1, 70: 1, 73: 1, 117: 1})\n"
     ]
    },
    {
     "data": {
      "image/png": "[encoded data removed]",
      "text/plain": [
       "<Figure size 432x288 with 1 Axes>"
      ]
     },
     "metadata": {
      "needs_background": "light"
     },
     "output_type": "display_data"
    },
    {
     "name": "stdout",
     "output_type": "stream",
     "text": [
      "947 1:1 tree with / 947 1:1 tree total / 993 trees total  \n"
     ]
    }
   ],
   "source": [
    "_plot_RF(ham_analysis_opo_comp, tree_collection_o_comp, CCs_o_comp, CCmono_o_comp, CCmulti_o_comp) "
   ]
  },
  {
   "cell_type": "code",
   "execution_count": null,
   "metadata": {},
   "outputs": [],
   "source": []
  },
  {
   "cell_type": "code",
   "execution_count": null,
   "metadata": {
    "cell_style": "split"
   },
   "outputs": [],
   "source": [
    "_plot_RF(ham_analysis_opo_def, tree_collection_o, CCs_o, CCmono_o, CCmulti_o)    \n"
   ]
  },
  {
   "cell_type": "code",
   "execution_count": null,
   "metadata": {
    "cell_style": "split"
   },
   "outputs": [],
   "source": [
    "_plot_RF(ham_analysis_opo_comp, tree_collection_o_comp, CCs_o_comp, CCmono_o_comp, CCmulti_o_comp) "
   ]
  },
  {
   "cell_type": "markdown",
   "metadata": {},
   "source": [
    "# Investigate wrong hog w/ perfect PO"
   ]
  },
  {
   "cell_type": "markdown",
   "metadata": {},
   "source": [
    "### splitted hogs"
   ]
  },
  {
   "cell_type": "code",
   "execution_count": null,
   "metadata": {},
   "outputs": [],
   "source": [
    "# get the dict to map #splitted hogs with rel cases\n",
    "sh = collections.defaultdict(list)\n",
    "for c in tree_collection_p:\n",
    "    if len(c['hogs']) > 1:\n",
    "        sh[len(c['hogs'])].append(c)\n",
    "    "
   ]
  },
  {
   "cell_type": "code",
   "execution_count": null,
   "metadata": {
    "code_folding": [
     0,
     9
    ]
   },
   "outputs": [],
   "source": [
    "def _print_tree(col_item):\n",
    "    \n",
    "    print(col_item['tree'].write())\n",
    "    \n",
    "    for h in list(col_item['hogs']):\n",
    "        \n",
    "        t1 = visit_gen_tree(h, Tree()) \n",
    "        print(t1.write())\n",
    "        \n",
    "def _filter_not_starting_with_duplication(sh):\n",
    "    \n",
    "    t = []\n",
    "    for nbr, es in sh.items():\n",
    "        for e in es:\n",
    "            if e['tree'].D == 'N':\n",
    "                t.append(e)\n",
    "    return t\n"
   ]
  },
  {
   "cell_type": "code",
   "execution_count": null,
   "metadata": {
    "scrolled": true
   },
   "outputs": [],
   "source": [
    "_print_tree(sh[2][24]) # root.D == N but looks like dup"
   ]
  },
  {
   "cell_type": "code",
   "execution_count": null,
   "metadata": {},
   "outputs": [],
   "source": [
    "t = _filter_not_starting_with_duplication(sh)\n",
    "print(t)"
   ]
  },
  {
   "cell_type": "markdown",
   "metadata": {},
   "source": [
    "##### All splitted hogs seems to be due to starting with duplication which is impossible to catch here, the above example not starting seems to start by one though (see phylo.io)"
   ]
  },
  {
   "cell_type": "markdown",
   "metadata": {},
   "source": [
    "### RF > 0"
   ]
  },
  {
   "cell_type": "code",
   "execution_count": 27,
   "metadata": {},
   "outputs": [],
   "source": [
    "# get the dict to map rf > 0  with its col item\n",
    "\n",
    "rf = collections.defaultdict(list)\n",
    "for c in tree_collection_p:\n",
    "    if c['RF'] is not None and c['RF'] > 0:\n",
    "        rf[c['RF']].append(c)"
   ]
  },
  {
   "cell_type": "code",
   "execution_count": null,
   "metadata": {},
   "outputs": [],
   "source": [
    "#_print_tree(rf[2][4]) \n",
    "_print_tree(rf[4][5]) "
   ]
  },
  {
   "cell_type": "code",
   "execution_count": 29,
   "metadata": {},
   "outputs": [
    {
     "name": "stdout",
     "output_type": "stream",
     "text": [
      "{'tree': Tree node '' (0x13f6ba39), 'hogs': {<HOG(171)>}, 'hog_tree': Tree node 'SE001/SE018/SE017/SE016/SE011/SE015/SE012/SE013/SE010/SE014/SE020/SE019/SE021/SE005/SE003/SE006/SE004/SE009/SE002/SE026/SE027/SE028/SE029/SE025/SE035/SE036/SE034/SE031/SE033/SE032/SE030/SE023/SE022/SE024/SE008/SE007' (-0x7fffffffed7562af), 'RF': 1, 'completeness': 100.0, 'treefile': 'GeneTree1000.nwk'}\n"
     ]
    }
   ],
   "source": [
    "vv = rf[1][0]#['treefile']\n",
    "print(vv)\n"
   ]
  },
  {
   "cell_type": "code",
   "execution_count": 31,
   "metadata": {},
   "outputs": [],
   "source": [
    "t1 = vv['tree']\n",
    "t2 = vv['hog_tree']\n",
    "\n",
    "d1 = t1.robinson_foulds(t2)\n",
    "#d2 = t1.robinson_foulds(t2, expand_polytomies=True, polytomy_size_limit=100,  skip_large_polytomies=False )"
   ]
  },
  {
   "cell_type": "code",
   "execution_count": 32,
   "metadata": {},
   "outputs": [
    {
     "name": "stdout",
     "output_type": "stream",
     "text": [
      "1 131\n"
     ]
    }
   ],
   "source": [
    "print(d1[0], d1[1])"
   ]
  },
  {
   "cell_type": "code",
   "execution_count": 34,
   "metadata": {},
   "outputs": [
    {
     "data": {
      "text/plain": [
       "'((((((((G1000_SE001:51.1562,G1000_SE018:51.1562)1:0,G1000_SE017:51.1562)1:0,G1000_SE016:51.1562)1:2.5001,((G1000_SE011:51.5059,G1000_SE015:51.5059)1:1.4466,(G1000_SE012:52.9524,G1000_SE013:52.9524)1:0.0001)1:0.7038)1:2.4105,(G1000_SE010:51.9444,((G1000_SE014:49.9516,G1000_SE020:49.9516)1:0.7164,(G1000_SE019:49.2211,G1000_SE021:49.2211)1:1.4469)1:1.2764)1:4.1224)1:10.7039,G1000_SE005:66.7707)1:8.9665,((G1000_SE003:64.3217,G1000_SE006:64.3217)1:5.0443,(G1000_SE004:56.7869,G1000_SE009:56.7869)1:12.5791)1:6.3712)1:14.1975,(((((((G1000_SE002:18.0775,(G1000_SE026:17.3847,(G1000_SE027:15.6234,(G1000_SE028:14.1704,G1000_SE029:14.1704)1:1.453)1:1.7613)1:0.6928)1:2.9978,((((G1000_SE025:3.6845,(G1000_SE035:3.0135,G1000_SE036:3.0135)1:0.671)1:1.4849,G1000_SE034:5.1694)1:1.4596,((G1000_SE031:5.1862,G1000_SE033:5.1862)1:0,G1000_SE032:5.1862)1:1.4428)1:0.6342,G1000_SE030:7.2632)1:13.8121)1:24.2859,G1000_SE023:45.3612)1:0,(G1000_SE022:36.4601,G1000_SE024:36.4601)1:8.9011)1:13.7015,(((((G1282_SE002:18.0775,(G1282_SE026:17.3847,(G1282_SE027:15.6234,(G1282_SE028:14.1704,G1282_SE029:14.1704)1:1.453)1:1.7613)1:0.6928)1:2.9978,((((G1282_SE025:3.6845,(G1282_SE035:3.0135,G1282_SE036:3.0135)1:0.671)1:1.4849,G1282_SE034:5.1694)1:1.4596,((G1282_SE031:5.1862,G1282_SE033:5.1862)1:0,G1282_SE032:5.1862)1:1.4428)1:0.6342,G1282_SE030:7.2632)1:13.8121)1:24.2859,G1282_SE023:45.3612)1:0,(G1282_SE022:36.4601,G1282_SE024:36.4601)1:8.9011)1:13.7015,((((G1283_SE002:18.0775,(G1283_SE026:17.3847,(G1283_SE027:15.6234,(G1283_SE028:14.1704,G1283_SE029:14.1704)1:1.453)1:1.7613)1:0.6928)1:2.9978,((((G1283_SE025:3.6845,(G1283_SE035:3.0135,G1283_SE036:3.0135)1:0.671)1:1.4849,G1283_SE034:5.1694)1:1.4596,((G1283_SE031:5.1862,G1283_SE033:5.1862)1:0,G1283_SE032:5.1862)1:1.4428)1:0.6342,G1283_SE030:7.2632)1:13.8121)1:24.2859,G1283_SE023:45.3612)1:0,(G1283_SE022:36.4601,G1283_SE024:36.4601)1:8.9011)1:13.7015)1:0)1:0.08007,G1000_SE008:59.1428)1:0,G1000_SE007:59.1428)1:30.7919);'"
      ]
     },
     "execution_count": 34,
     "metadata": {},
     "output_type": "execute_result"
    }
   ],
   "source": [
    "t1.write()\n"
   ]
  },
  {
   "cell_type": "code",
   "execution_count": 35,
   "metadata": {},
   "outputs": [
    {
     "data": {
      "text/plain": [
       "'(((((G1000_SE010:1,((G1000_SE021:1,G1000_SE019:1)1:1,(G1000_SE020:1,G1000_SE014:1)1:1)1:1)1:1,(((G1000_SE013:1,G1000_SE012:1)1:1,(G1000_SE015:1,G1000_SE011:1)1:1)1:1,(G1000_SE016:1,(G1000_SE017:1,(G1000_SE018:1,G1000_SE001:1)1:1)1:1)1:1)1:1)1:1,G1000_SE005:1)1:1,((G1000_SE004:1,G1000_SE009:1)1:1,(G1000_SE006:1,G1000_SE003:1)1:1)1:1)1:1,(G1000_SE007:1,(((((((((G1282_SE025:1,(G1282_SE036:1,G1282_SE035:1)1:1)1:1,G1282_SE034:1)1:1,(G1282_SE032:1,(G1282_SE033:1,G1282_SE031:1)1:1)1:1)1:1,G1282_SE030:1)1:1,(((G1282_SE027:1,(G1282_SE028:1,G1282_SE029:1)1:1)1:1,G1282_SE026:1)1:1,G1282_SE002:1)1:1)1:1,G1282_SE023:1)1:1,(G1282_SE022:1,G1282_SE024:1)1:1)1:1,((((G1283_SE002:1,((G1283_SE027:1,(G1283_SE028:1,G1283_SE029:1)1:1)1:1,G1283_SE026:1)1:1)1:1,(((((G1283_SE035:1,G1283_SE036:1)1:1,G1283_SE025:1)1:1,G1283_SE034:1)1:1,((G1283_SE031:1,G1283_SE033:1)1:1,G1283_SE032:1)1:1)1:1,G1283_SE030:1)1:1)1:1,G1283_SE023:1)1:1,(G1283_SE024:1,G1283_SE022:1)1:1)1:1,((G1000_SE023:1,((((G1000_SE027:1,(G1000_SE029:1,G1000_SE028:1)1:1)1:1,G1000_SE026:1)1:1,G1000_SE002:1)1:1,((((G1000_SE033:1,G1000_SE031:1)1:1,G1000_SE032:1)1:1,((G1000_SE025:1,(G1000_SE036:1,G1000_SE035:1)1:1)1:1,G1000_SE034:1)1:1)1:1,G1000_SE030:1)1:1)1:1)1:1,(G1000_SE024:1,G1000_SE022:1)1:1)1:1)1:1,G1000_SE008:1)1:1)1:1)1:1;'"
      ]
     },
     "execution_count": 35,
     "metadata": {},
     "output_type": "execute_result"
    }
   ],
   "source": [
    "t2.write()"
   ]
  },
  {
   "cell_type": "markdown",
   "metadata": {},
   "source": [
    "### RF problems seem to be for multiple duplications transformed into unresolved duplication polytomies in gethogs this is then no problem using the resolve polytomies in ete3.rf but this is computation expensive !"
   ]
  },
  {
   "cell_type": "code",
   "execution_count": null,
   "metadata": {},
   "outputs": [],
   "source": [
    "f = t1.compare(t2 )"
   ]
  },
  {
   "cell_type": "code",
   "execution_count": null,
   "metadata": {},
   "outputs": [],
   "source": [
    "f['rf']\n"
   ]
  },
  {
   "cell_type": "code",
   "execution_count": null,
   "metadata": {
    "cell_style": "center",
    "scrolled": false
   },
   "outputs": [],
   "source": [
    "print(t1)"
   ]
  },
  {
   "cell_type": "code",
   "execution_count": null,
   "metadata": {
    "cell_style": "center",
    "scrolled": false
   },
   "outputs": [],
   "source": [
    "print(t2.write())"
   ]
  },
  {
   "cell_type": "code",
   "execution_count": null,
   "metadata": {},
   "outputs": [],
   "source": [
    "ptree = \"(((((((SE001/00662:51.1562,SE018/00662:51.1562):0[&&NHX:D=N],SE017/00662:51.1562):0[&&NHX:D=N],SE016/00662:51.1562):2.5001[&&NHX:D=N],((SE011/00662:51.5059,SE015/00662:51.5059):1.4466[&&NHX:D=N],(SE012/00662:52.9524,SE013/00662:52.9524):0.0001[&&NHX:D=N]):0.7038[&&NHX:D=N]):2.4105[&&NHX:D=N],(SE010/00662:51.9444,((SE014/00662:49.9516,SE020/00662:49.9516):0.7164[&&NHX:D=N],(SE019/00662:49.2211,SE021/00662:49.2211):1.4469[&&NHX:D=N]):1.2764[&&NHX:D=N]):4.1224[&&NHX:D=N]):19.6704[&&NHX:D=N],((SE003/00662:64.3217,SE006/00662:64.3217):5.0443[&&NHX:D=N],(SE004/00662:56.7869,SE009/00662:56.7869):12.5791[&&NHX:D=N]):6.3712[&&NHX:D=N]):14.1975[&&NHX:D=N],(((((((((SE002/00662:18.0775,(SE026/00662:17.3847,(SE027/00662:15.6234,(SE028/00662:14.1704,SE029/00662:14.1704):1.453[&&NHX:D=N]):1.7613[&&NHX:D=N]):0.6928[&&NHX:D=N]):2.9978[&&NHX:D=N],((((SE025/00662:3.6845,(SE035/00662:3.0135,SE036/00662:3.0135):0.671[&&NHX:D=N]):1.4849[&&NHX:D=N],SE034/00662:5.1694):1.4596[&&NHX:D=N],((SE031/00662:5.1862,SE033/00662:5.1862):0[&&NHX:D=N],SE032/00662:5.1862):1.4428[&&NHX:D=N]):0.6342[&&NHX:D=N],SE030/00662:7.2632):13.8121[&&NHX:D=N]):4.737725[&&NHX:D=N],((SE002/01583:18.0775,(SE026/01583:17.3847,(SE027/01583:15.6234,(SE028/01583:14.1704,SE029/01583:14.1704):1.453[&&NHX:D=N]):1.7613[&&NHX:D=N]):0.6928[&&NHX:D=N]):2.9978[&&NHX:D=N],((((SE025/01583:3.6845,(SE035/01583:3.0135,SE036/01583:3.0135):0.671[&&NHX:D=N]):1.4849[&&NHX:D=N],SE034/01583:5.1694):1.4596[&&NHX:D=N],((SE031/01583:5.1862,SE033/01583:5.1862):0[&&NHX:D=N],SE032/01583:5.1862):1.4428[&&NHX:D=N]):0.6342[&&NHX:D=N],SE030/01583:7.2632):13.8121[&&NHX:D=N]):4.737725[&&NHX:D=N]):11.012627[&&NHX:D=Y],((SE002/01494:18.0775,(SE026/01494:17.3847,(SE027/01494:15.6234,(SE028/01494:14.1704,SE029/01494:14.1704):1.453[&&NHX:D=N]):1.7613[&&NHX:D=N]):0.6928[&&NHX:D=N]):2.9978[&&NHX:D=N],((((SE025/01494:3.6845,(SE035/01494:3.0135,SE036/01494:3.0135):0.671[&&NHX:D=N]):1.4849[&&NHX:D=N],SE034/01494:5.1694):1.4596[&&NHX:D=N],((SE031/01494:5.1862,SE033/01494:5.1862):0[&&NHX:D=N],SE032/01494:5.1862):1.4428[&&NHX:D=N]):0.6342[&&NHX:D=N],SE030/01494:7.2632):13.8121[&&NHX:D=N]):15.750352[&&NHX:D=N]):8.28489[&&NHX:D=Y],((SE002/01418:18.0775,(SE026/01418:17.3847,(SE027/01418:15.6234,(SE028/01418:14.1704,SE029/01418:14.1704):1.453[&&NHX:D=N]):1.7613[&&NHX:D=N]):0.6928[&&NHX:D=N]):2.9978[&&NHX:D=N],((((SE025/01418:3.6845,(SE035/01418:3.0135,SE036/01418:3.0135):0.671[&&NHX:D=N]):1.4849[&&NHX:D=N],SE034/01418:5.1694):1.4596[&&NHX:D=N],((SE031/01418:5.1862,SE033/01418:5.1862):0[&&NHX:D=N],SE032/01418:5.1862):1.4428[&&NHX:D=N]):0.6342[&&NHX:D=N],SE030/01418:7.2632):13.8121[&&NHX:D=N]):24.035242[&&NHX:D=N]):0.250658[&&NHX:D=Y],SE023/00662:45.3612):0[&&NHX:D=N],(SE022/00662:36.4601,SE024/00662:36.4601):8.9011[&&NHX:D=N]):13.7816[&&NHX:D=N],SE008/00662:59.1428):0[&&NHX:D=N],SE007/00662:59.1428):30.7919[&&NHX:D=N]):0[&&NHX:D=N];\"\n",
    "\n",
    "ep = Tree(ptree)\n",
    "\n",
    "\n",
    "for n in ep.traverse():\n",
    "    if hasattr(n,\"D\") and n.D == 'Y':\n",
    "        print(n.name, n.D)\n",
    "\n",
    "\n"
   ]
  },
  {
   "cell_type": "code",
   "execution_count": null,
   "metadata": {},
   "outputs": [],
   "source": [
    "for e in ep.internal_edges():\n",
    "    if e.tail_node is not None:\n",
    "        if (e.head_node.label == 'dup') and (e.tail_node.label == 'dup'):\n",
    "            e.collapse()"
   ]
  },
  {
   "cell_type": "code",
   "execution_count": null,
   "metadata": {},
   "outputs": [],
   "source": [
    "from dendropy import Tree\n",
    "\n",
    "t = Tree.get_from_string('((A1,(B1,(C1,D1)dup)dup)dup,(A2,(B2,(C2,D2)dup)dup)dup)spc;', schema='newick')\n",
    "\n",
    "for e in t.internal_edges():\n",
    "    if e.tail_node is not None:\n",
    "        if (e.head_node.label == 'dup') and (e.tail_node.label == 'dup'):\n",
    "            e.collapse()"
   ]
  },
  {
   "cell_type": "code",
   "execution_count": null,
   "metadata": {},
   "outputs": [],
   "source": [
    "print(t)\n"
   ]
  },
  {
   "cell_type": "code",
   "execution_count": null,
   "metadata": {},
   "outputs": [],
   "source": [
    "xn = \"(((((((SE001/00662:51.1562,SE018/00662:51.1562):0[&&NHX:D=N],SE017/00662:51.1562):0[&&NHX:D=N],SE016/00662:51.1562):2.5001[&&NHX:D=N],((SE011/00662:51.5059,SE015/00662:51.5059):1.4466[&&NHX:D=N],(SE012/00662:52.9524,SE013/00662:52.9524):0.0001[&&NHX:D=N]):0.7038[&&NHX:D=N]):2.4105[&&NHX:D=N],(SE010/00662:51.9444,((SE014/00662:49.9516,SE020/00662:49.9516):0.7164[&&NHX:D=N],(SE019/00662:49.2211,SE021/00662:49.2211):1.4469[&&NHX:D=N]):1.2764[&&NHX:D=N]):4.1224[&&NHX:D=N]):19.6704[&&NHX:D=N],((SE003/00662:64.3217,SE006/00662:64.3217):5.0443[&&NHX:D=N],(SE004/00662:56.7869,SE009/00662:56.7869):12.5791[&&NHX:D=N]):6.3712[&&NHX:D=N]):14.1975[&&NHX:D=N],(((((((((SE002/00662:18.0775,(SE026/00662:17.3847,(SE027/00662:15.6234,(SE028/00662:14.1704,SE029/00662:14.1704):1.453[&&NHX:D=N]):1.7613[&&NHX:D=N]):0.6928[&&NHX:D=N]):2.9978[&&NHX:D=N],((((SE025/00662:3.6845,(SE035/00662:3.0135,SE036/00662:3.0135):0.671[&&NHX:D=N]):1.4849[&&NHX:D=N],SE034/00662:5.1694):1.4596[&&NHX:D=N],((SE031/00662:5.1862,SE033/00662:5.1862):0[&&NHX:D=N],SE032/00662:5.1862):1.4428[&&NHX:D=N]):0.6342[&&NHX:D=N],SE030/00662:7.2632):13.8121[&&NHX:D=N]):4.737725[&&NHX:D=N],((SE002/01583:18.0775,(SE026/01583:17.3847,(SE027/01583:15.6234,(SE028/01583:14.1704,SE029/01583:14.1704):1.453[&&NHX:D=N]):1.7613[&&NHX:D=N]):0.6928[&&NHX:D=N]):2.9978[&&NHX:D=N],((((SE025/01583:3.6845,(SE035/01583:3.0135,SE036/01583:3.0135):0.671[&&NHX:D=N]):1.4849[&&NHX:D=N],SE034/01583:5.1694):1.4596[&&NHX:D=N],((SE031/01583:5.1862,SE033/01583:5.1862):0[&&NHX:D=N],SE032/01583:5.1862):1.4428[&&NHX:D=N]):0.6342[&&NHX:D=N],SE030/01583:7.2632):13.8121[&&NHX:D=N]):4.737725[&&NHX:D=N]):11.012627[&&NHX:D=Y],((SE002/01494:18.0775,(SE026/01494:17.3847,(SE027/01494:15.6234,(SE028/01494:14.1704,SE029/01494:14.1704):1.453[&&NHX:D=N]):1.7613[&&NHX:D=N]):0.6928[&&NHX:D=N]):2.9978[&&NHX:D=N],((((SE025/01494:3.6845,(SE035/01494:3.0135,SE036/01494:3.0135):0.671[&&NHX:D=N]):1.4849[&&NHX:D=N],SE034/01494:5.1694):1.4596[&&NHX:D=N],((SE031/01494:5.1862,SE033/01494:5.1862):0[&&NHX:D=N],SE032/01494:5.1862):1.4428[&&NHX:D=N]):0.6342[&&NHX:D=N],SE030/01494:7.2632):13.8121[&&NHX:D=N]):15.750352[&&NHX:D=N]):8.28489[&&NHX:D=Y],((SE002/01418:18.0775,(SE026/01418:17.3847,(SE027/01418:15.6234,(SE028/01418:14.1704,SE029/01418:14.1704):1.453[&&NHX:D=N]):1.7613[&&NHX:D=N]):0.6928[&&NHX:D=N]):2.9978[&&NHX:D=N],((((SE025/01418:3.6845,(SE035/01418:3.0135,SE036/01418:3.0135):0.671[&&NHX:D=N]):1.4849[&&NHX:D=N],SE034/01418:5.1694):1.4596[&&NHX:D=N],((SE031/01418:5.1862,SE033/01418:5.1862):0[&&NHX:D=N],SE032/01418:5.1862):1.4428[&&NHX:D=N]):0.6342[&&NHX:D=N],SE030/01418:7.2632):13.8121[&&NHX:D=N]):24.035242[&&NHX:D=N]):0.250658[&&NHX:D=Y],SE023/00662:45.3612):0[&&NHX:D=N],(SE022/00662:36.4601,SE024/00662:36.4601):8.9011[&&NHX:D=N]):13.7816[&&NHX:D=N],SE008/00662:59.1428):0[&&NHX:D=N],SE007/00662:59.1428):30.7919[&&NHX:D=N]):0[&&NHX:D=N];\"\n",
    "\n",
    "t = Tree.get_from_string(xn, schema='newick', extract_comment_metadata=True)\n",
    "\n",
    "\n",
    "\n",
    "for leaf in t.leaf_nodes():\n",
    "    g = int(str(leaf.taxon.label).split('/')[1].strip(\"0\"))\n",
    "    sp = str(leaf.taxon.label).split('/')[0]\n",
    "    leaf.taxon.label = \"G{}_{}\".format(g,sp)\n",
    "\n",
    "for e in t.internal_edges():\n",
    "    if e.tail_node is not None:\n",
    "        if (str(e.head_node.annotations['D']) == str(\"D='Y'\")) and (str(e.tail_node.annotations['D']) == str(\"D='Y'\")):\n",
    "            e.collapse()\n",
    "        \n",
    "\n",
    "\n"
   ]
  },
  {
   "cell_type": "code",
   "execution_count": null,
   "metadata": {
    "scrolled": true
   },
   "outputs": [],
   "source": [
    "print(t)"
   ]
  },
  {
   "cell_type": "code",
   "execution_count": null,
   "metadata": {},
   "outputs": [],
   "source": [
    "from  ete3 import Tree\n",
    "\n",
    "# hog\n",
    "t1 = Tree(\"(((G662_SE008:1,((G662_SE024:1,G662_SE022:1)1:1,((((G1418_SE030:1,((G1418_SE034:1,((G1418_SE035:1,G1418_SE036:1)1:1,G1418_SE025:1)1:1)1:1,(G1418_SE032:1,(G1418_SE031:1,G1418_SE033:1)1:1)1:1)1:1)1:1,((G1418_SE026:1,(G1418_SE027:1,(G1418_SE029:1,G1418_SE028:1)1:1)1:1)1:1,G1418_SE002:1)1:1)1:1,((G662_SE030:1,((G662_SE032:1,(G662_SE031:1,G662_SE033:1)1:1)1:1,((G662_SE025:1,(G662_SE035:1,G662_SE036:1)1:1)1:1,G662_SE034:1)1:1)1:1)1:1,(G662_SE002:1,(G662_SE026:1,((G662_SE028:1,G662_SE029:1)1:1,G662_SE027:1)1:1)1:1)1:1)1:1,((((G1494_SE032:1,(G1494_SE033:1,G1494_SE031:1)1:1)1:1,((G1494_SE025:1,(G1494_SE036:1,G1494_SE035:1)1:1)1:1,G1494_SE034:1)1:1)1:1,G1494_SE030:1)1:1,(G1494_SE002:1,((G1494_SE027:1,(G1494_SE028:1,G1494_SE029:1)1:1)1:1,G1494_SE026:1)1:1)1:1)1:1,(((G1583_SE026:1,(G1583_SE027:1,(G1583_SE028:1,G1583_SE029:1)1:1)1:1)1:1,G1583_SE002:1)1:1,(G1583_SE030:1,((G1583_SE034:1,((G1583_SE036:1,G1583_SE035:1)1:1,G1583_SE025:1)1:1)1:1,(G1583_SE032:1,(G1583_SE031:1,G1583_SE033:1)1:1)1:1)1:1)1:1)1:1)1:1,G662_SE023:1)1:1)1:1)1:1,G662_SE007:1)1:1,(((G662_SE009:1,G662_SE004:1)1:1,(G662_SE003:1,G662_SE006:1)1:1)1:1,(((((G662_SE020:1,G662_SE014:1)1:1,(G662_SE021:1,G662_SE019:1)1:1)1:1,G662_SE010:1)1:1,((((G662_SE001:1,G662_SE018:1)1:1,G662_SE017:1)1:1,G662_SE016:1)1:1,((G662_SE015:1,G662_SE011:1)1:1,(G662_SE012:1,G662_SE013:1)1:1)1:1)1:1)1:1)1:1)1:1)1:1;\")\n",
    "#corrected true\n",
    "t2 = Tree(\"(((((((G662_SE001:51.1562,G662_SE018:51.1562):0.0,G662_SE017:51.1562):0.0,G662_SE016:51.1562):2.5001,((G662_SE011:51.5059,G662_SE015:51.5059):1.4466,(G662_SE012:52.9524,G662_SE013:52.9524):0.0001):0.7038):2.4105,(G662_SE010:51.9444,((G662_SE014:49.9516,G662_SE020:49.9516):0.7164,(G662_SE019:49.2211,G662_SE021:49.2211):1.4469):1.2764):4.1224):19.6704,((G662_SE003:64.3217,G662_SE006:64.3217):5.0443,(G662_SE004:56.7869,G662_SE009:56.7869):12.5791):6.3712):14.1975,(((((((G662_SE002:18.0775,(G662_SE026:17.3847,(G662_SE027:15.6234,(G662_SE028:14.1704,G662_SE029:14.1704):1.453):1.7613):0.6928):2.9978,((((G662_SE025:3.6845,(G662_SE035:3.0135,G662_SE036:3.0135):0.671):1.4849,G662_SE034:5.1694):1.4596,((G662_SE031:5.1862,G662_SE033:5.1862):0.0,G662_SE032:5.1862):1.4428):0.6342,G662_SE030:7.2632):13.8121):4.737725,((G1583_SE002:18.0775,(G1583_SE026:17.3847,(G1583_SE027:15.6234,(G1583_SE028:14.1704,G1583_SE029:14.1704):1.453):1.7613):0.6928):2.9978,((((G1583_SE025:3.6845,(G1583_SE035:3.0135,G1583_SE036:3.0135):0.671):1.4849,G1583_SE034:5.1694):1.4596,((G1583_SE031:5.1862,G1583_SE033:5.1862):0.0,G1583_SE032:5.1862):1.4428):0.6342,G1583_SE030:7.2632):13.8121):4.737725,((G1494_SE002:18.0775,(G1494_SE026:17.3847,(G1494_SE027:15.6234,(G1494_SE028:14.1704,G1494_SE029:14.1704):1.453):1.7613):0.6928):2.9978,((((G1494_SE025:3.6845,(G1494_SE035:3.0135,G1494_SE036:3.0135):0.671):1.4849,G1494_SE034:5.1694):1.4596,((G1494_SE031:5.1862,G1494_SE033:5.1862):0.0,G1494_SE032:5.1862):1.4428):0.6342,G1494_SE030:7.2632):13.8121):15.750352,((G1418_SE002:18.0775,(G1418_SE026:17.3847,(G1418_SE027:15.6234,(G1418_SE028:14.1704,G1418_SE029:14.1704):1.453):1.7613):0.6928):2.9978,((((G1418_SE025:3.6845,(G1418_SE035:3.0135,G1418_SE036:3.0135):0.671):1.4849,G1418_SE034:5.1694):1.4596,((G1418_SE031:5.1862,G1418_SE033:5.1862):0.0,G1418_SE032:5.1862):1.4428):0.6342,G1418_SE030:7.2632):13.8121):24.035242):0.250658,G662_SE023:45.3612):0.0,(G662_SE022:36.4601,G662_SE024:36.4601):8.9011):13.7816,G662_SE008:59.1428):0.0,G662_SE007:59.1428):30.7919):0.0;\")\n",
    "\n",
    "d1 = t1.robinson_foulds(t2)\n",
    "\n",
    "print(d1[0])\n",
    "\n",
    "\n",
    "\n"
   ]
  },
  {
   "cell_type": "code",
   "execution_count": null,
   "metadata": {},
   "outputs": [],
   "source": [
    "genetree1000 change first duplication from N to Y 0[&&NHX:D=Y]):0.08007[&&NHX:D=Y],SE008/01000:59.1428):0[&&NHX:D=N],SE007/01000:59.1428):30.7919[&&NHX:D=N]):0[&&NHX:D=N];"
   ]
  }
 ],
 "metadata": {
  "hide_input": false,
  "kernelspec": {
   "display_name": "Python [conda env:py3]",
   "language": "python",
   "name": "conda-env-py3-py"
  },
  "language_info": {
   "codemirror_mode": {
    "name": "ipython",
    "version": 3
   },
   "file_extension": ".py",
   "mimetype": "text/x-python",
   "name": "python",
   "nbconvert_exporter": "python",
   "pygments_lexer": "ipython3",
   "version": "3.7.5"
  }
 },
 "nbformat": 4,
 "nbformat_minor": 2
}
